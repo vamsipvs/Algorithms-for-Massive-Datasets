{
  "nbformat": 4,
  "nbformat_minor": 0,
  "metadata": {
    "colab": {
      "name": "Market.ipynb",
      "provenance": [],
      "collapsed_sections": []
    },
    "kernelspec": {
      "display_name": "Python 3",
      "language": "python",
      "name": "python3"
    },
    "language_info": {
      "codemirror_mode": {
        "name": "ipython",
        "version": 3
      },
      "file_extension": ".py",
      "mimetype": "text/x-python",
      "name": "python",
      "nbconvert_exporter": "python",
      "pygments_lexer": "ipython3",
      "version": "3.7.6"
    }
  },
  "cells": [
    {
      "cell_type": "code",
      "metadata": {
        "colab": {
          "resources": {
            "http://localhost:8080/nbextensions/google.colab/files.js": {
              "data": "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",
              "ok": true,
              "headers": [
                [
                  "content-type",
                  "application/javascript"
                ]
              ],
              "status": 200,
              "status_text": ""
            }
          },
          "base_uri": "https://localhost:8080/",
          "height": 82
        },
        "id": "SZANS0AtVyDF",
        "outputId": "74f584fd-6c95-46b5-b4e6-f8d4cbdb2f1b"
      },
      "source": [
        "#Upload your kaggle API json file:\n",
        "from google.colab import files\n",
        "files.upload()"
      ],
      "execution_count": 1,
      "outputs": [
        {
          "output_type": "display_data",
          "data": {
            "text/html": [
              "\n",
              "     <input type=\"file\" id=\"files-e00456f4-ec05-4839-9266-c3edd2139ce0\" name=\"files[]\" multiple disabled\n",
              "        style=\"border:none\" />\n",
              "     <output id=\"result-e00456f4-ec05-4839-9266-c3edd2139ce0\">\n",
              "      Upload widget is only available when the cell has been executed in the\n",
              "      current browser session. Please rerun this cell to enable.\n",
              "      </output>\n",
              "      <script src=\"/nbextensions/google.colab/files.js\"></script> "
            ],
            "text/plain": [
              "<IPython.core.display.HTML object>"
            ]
          },
          "metadata": {
            "tags": []
          }
        },
        {
          "output_type": "stream",
          "text": [
            "Saving kaggle.json to kaggle.json\n"
          ],
          "name": "stdout"
        },
        {
          "output_type": "execute_result",
          "data": {
            "text/plain": [
              "{'kaggle.json': b'{\"username\":\"vamsipvs\",\"key\":\"11b9c77decceaea998a95ec44402006f\"}'}"
            ]
          },
          "metadata": {
            "tags": []
          },
          "execution_count": 1
        }
      ]
    },
    {
      "cell_type": "code",
      "metadata": {
        "id": "CNh-GLa4VyGl"
      },
      "source": [
        "!mkdir -p ~/.kaggle\n",
        "!cp kaggle.json ~/.kaggle/\n",
        "!chmod 600 ~/.kaggle/kaggle.json"
      ],
      "execution_count": 2,
      "outputs": []
    },
    {
      "cell_type": "code",
      "metadata": {
        "colab": {
          "base_uri": "https://localhost:8080/"
        },
        "id": "fl66H2njXCPJ",
        "outputId": "23ea5ba8-9521-4c15-b24b-ab1dbf68e882"
      },
      "source": [
        "!kaggle datasets download -d ashirwadsangwan/imdb-dataset"
      ],
      "execution_count": 3,
      "outputs": [
        {
          "output_type": "stream",
          "text": [
            "Downloading imdb-dataset.zip to /content\n",
            " 99% 1.43G/1.44G [00:13<00:00, 112MB/s] \n",
            "100% 1.44G/1.44G [00:13<00:00, 115MB/s]\n"
          ],
          "name": "stdout"
        }
      ]
    },
    {
      "cell_type": "code",
      "metadata": {
        "colab": {
          "base_uri": "https://localhost:8080/"
        },
        "id": "s82jQLyOXvmu",
        "outputId": "9ce822c4-993e-4651-b28d-6d1dfb22a82d"
      },
      "source": [
        "#Define the path and name of the directory to be created:\n",
        "#This is the path where we will extract the dataset:\n",
        "import os\n",
        "path = \"/content/imdb-dataset\"\n",
        "\n",
        "try:\n",
        "    os.mkdir(path)\n",
        "except OSError:\n",
        "    print (\"Creation of the directory %s failed\" % path)\n",
        "else:\n",
        "   print (\"Successfully created the directory %s \" % path)"
      ],
      "execution_count": 4,
      "outputs": [
        {
          "output_type": "stream",
          "text": [
            "Successfully created the directory /content/imdb-dataset \n"
          ],
          "name": "stdout"
        }
      ]
    },
    {
      "cell_type": "code",
      "metadata": {
        "colab": {
          "base_uri": "https://localhost:8080/"
        },
        "id": "tqwhE_Y9Xvtl",
        "outputId": "eee0544a-ea37-411b-d005-c70c1bee74f3"
      },
      "source": [
        "#Extracts the Images from the Zip file downloaded to the path we created above:\n",
        "from zipfile import ZipFile\n",
        "file_name = \"imdb-dataset.zip\"\n",
        "with ZipFile(file_name, 'r') as zip:\n",
        "  zip.extractall(path = \"/content/imdb-dataset/\")\n",
        "  print('Done')"
      ],
      "execution_count": 5,
      "outputs": [
        {
          "output_type": "stream",
          "text": [
            "Done\n"
          ],
          "name": "stdout"
        }
      ]
    },
    {
      "cell_type": "code",
      "metadata": {
        "colab": {
          "base_uri": "https://localhost:8080/"
        },
        "id": "QxdxRphfVx3o",
        "outputId": "d7e212fe-b6a7-4d42-88a0-cea5c03e3fc5"
      },
      "source": [
        "!sudo apt-get update"
      ],
      "execution_count": 6,
      "outputs": [
        {
          "output_type": "stream",
          "text": [
            "\r0% [Working]\r            \rGet:1 http://security.ubuntu.com/ubuntu bionic-security InRelease [88.7 kB]\n",
            "\r0% [Connecting to archive.ubuntu.com (91.189.88.152)] [1 InRelease 14.2 kB/88.7\r0% [Connecting to archive.ubuntu.com (91.189.88.152)] [Connected to cloud.r-pro\r                                                                               \rHit:2 https://cloud.r-project.org/bin/linux/ubuntu bionic-cran40/ InRelease\n",
            "Ign:3 https://developer.download.nvidia.com/compute/cuda/repos/ubuntu1804/x86_64  InRelease\n",
            "Get:4 http://ppa.launchpad.net/c2d4u.team/c2d4u4.0+/ubuntu bionic InRelease [15.9 kB]\n",
            "Hit:5 http://archive.ubuntu.com/ubuntu bionic InRelease\n",
            "Ign:6 https://developer.download.nvidia.com/compute/machine-learning/repos/ubuntu1804/x86_64  InRelease\n",
            "Get:7 https://developer.download.nvidia.com/compute/cuda/repos/ubuntu1804/x86_64  Release [697 B]\n",
            "Hit:8 https://developer.download.nvidia.com/compute/machine-learning/repos/ubuntu1804/x86_64  Release\n",
            "Get:9 https://developer.download.nvidia.com/compute/cuda/repos/ubuntu1804/x86_64  Release.gpg [836 B]\n",
            "Get:10 http://archive.ubuntu.com/ubuntu bionic-updates InRelease [88.7 kB]\n",
            "Get:11 http://security.ubuntu.com/ubuntu bionic-security/universe amd64 Packages [1,418 kB]\n",
            "Hit:12 http://ppa.launchpad.net/cran/libgit2/ubuntu bionic InRelease\n",
            "Get:13 http://security.ubuntu.com/ubuntu bionic-security/main amd64 Packages [2,220 kB]\n",
            "Get:14 http://security.ubuntu.com/ubuntu bionic-security/restricted amd64 Packages [473 kB]\n",
            "Get:15 http://archive.ubuntu.com/ubuntu bionic-backports InRelease [74.6 kB]\n",
            "Get:16 http://ppa.launchpad.net/deadsnakes/ppa/ubuntu bionic InRelease [15.9 kB]\n",
            "Get:17 http://ppa.launchpad.net/graphics-drivers/ppa/ubuntu bionic InRelease [21.3 kB]\n",
            "Ign:19 https://developer.download.nvidia.com/compute/cuda/repos/ubuntu1804/x86_64  Packages\n",
            "Get:19 https://developer.download.nvidia.com/compute/cuda/repos/ubuntu1804/x86_64  Packages [599 kB]\n",
            "Get:20 http://ppa.launchpad.net/c2d4u.team/c2d4u4.0+/ubuntu bionic/main Sources [1,774 kB]\n",
            "Get:21 http://archive.ubuntu.com/ubuntu bionic-updates/universe amd64 Packages [2,188 kB]\n",
            "Get:22 http://archive.ubuntu.com/ubuntu bionic-updates/main amd64 Packages [2,653 kB]\n",
            "Get:23 http://archive.ubuntu.com/ubuntu bionic-updates/restricted amd64 Packages [505 kB]\n",
            "Get:24 http://ppa.launchpad.net/c2d4u.team/c2d4u4.0+/ubuntu bionic/main amd64 Packages [907 kB]\n",
            "Get:25 http://ppa.launchpad.net/deadsnakes/ppa/ubuntu bionic/main amd64 Packages [40.9 kB]\n",
            "Get:26 http://ppa.launchpad.net/graphics-drivers/ppa/ubuntu bionic/main amd64 Packages [41.5 kB]\n",
            "Fetched 13.1 MB in 3s (4,400 kB/s)\n",
            "Reading package lists... Done\n"
          ],
          "name": "stdout"
        }
      ]
    },
    {
      "cell_type": "code",
      "metadata": {
        "colab": {
          "base_uri": "https://localhost:8080/"
        },
        "id": "lh7Nu8TyB5zQ",
        "outputId": "5b2e3b47-8902-46fe-d6be-2219002b8b56"
      },
      "source": [
        "!sudo apt-get install"
      ],
      "execution_count": 7,
      "outputs": [
        {
          "output_type": "stream",
          "text": [
            "Reading package lists... Done\n",
            "Building dependency tree       \n",
            "Reading state information... Done\n",
            "0 upgraded, 0 newly installed, 0 to remove and 81 not upgraded.\n"
          ],
          "name": "stdout"
        }
      ]
    },
    {
      "cell_type": "code",
      "metadata": {
        "id": "q5HDhumwVx9A"
      },
      "source": [
        "!apt-get install openjdk-8-jdk-headless -qq > /dev/null\n",
        "!wget -q http://www-eu.apache.org/dist/spark/spark-3.1.2/spark-3.1.2-bin-hadoop3.2.tgz\n",
        "!tar xf spark-3.1.2-bin-hadoop3.2.tgz\n",
        "!pip install -q findspark\n"
      ],
      "execution_count": 8,
      "outputs": []
    },
    {
      "cell_type": "code",
      "metadata": {
        "id": "1qtU1CBIPLbN"
      },
      "source": [
        "\n",
        "import os\n",
        "os.environ[\"JAVA_HOME\"] = \"/usr/lib/jvm/java-8-openjdk-amd64\"\n",
        "os.environ[\"SPARK_HOME\"] = \"/content/spark-3.1.1-bin-hadoop3.2\"\n",
        "\n",
        "import findspark\n",
        "findspark.init(\"spark-3.1.2-bin-hadoop3.2\")# SPARK_HOME\n",
        "from pyspark.sql import SparkSession\n",
        "import pyspark.sql.functions  as F\n",
        "from pyspark.sql.functions import explode,split\n",
        "from pyspark import SparkContext\n",
        " \n",
        "\n",
        "\n",
        "\n"
      ],
      "execution_count": 9,
      "outputs": []
    },
    {
      "cell_type": "code",
      "metadata": {
        "id": "6vHGdxj0IaUq"
      },
      "source": [
        "sc=SparkContext()\n",
        "session = SparkSession.builder.master(\"local[*]\").getOrCreate()"
      ],
      "execution_count": 10,
      "outputs": []
    },
    {
      "cell_type": "code",
      "metadata": {
        "id": "odhwXc5LPLbd"
      },
      "source": [
        "df = session.read.csv(\"/content/imdb-dataset/title.akas.tsv\", sep=r'\\t', header=True).select(\"titleId\",\"title\")"
      ],
      "execution_count": 11,
      "outputs": []
    },
    {
      "cell_type": "code",
      "metadata": {
        "colab": {
          "base_uri": "https://localhost:8080/"
        },
        "id": "G74IadfPXv0-",
        "outputId": "d7c32b6e-b250-48af-a475-51cae5d5cd02"
      },
      "source": [
        "df.show()"
      ],
      "execution_count": 12,
      "outputs": [
        {
          "output_type": "stream",
          "text": [
            "+---------+--------------------+\n",
            "|  titleId|               title|\n",
            "+---------+--------------------+\n",
            "|tt0000001|Carmencita - span...|\n",
            "|tt0000001|          Καρμενσίτα|\n",
            "|tt0000001|          Карменсита|\n",
            "|tt0000001|          Carmencita|\n",
            "|tt0000001|          Carmencita|\n",
            "|tt0000002|Le clown et ses c...|\n",
            "|tt0000002|   A bohóc és kutyái|\n",
            "|tt0000002|Le clown et ses c...|\n",
            "|tt0000002|Clovnul si cainii...|\n",
            "|tt0000002|  Клоун и его собаки|\n",
            "|tt0000002|The Clown and His...|\n",
            "|tt0000003|    Sarmanul Pierrot|\n",
            "|tt0000003|     Szegény Pierrot|\n",
            "|tt0000003|        Бедный Пьеро|\n",
            "|tt0000003|      Pauvre Pierrot|\n",
            "|tt0000003|        Poor Pierrot|\n",
            "|tt0000003|      Pauvre Pierrot|\n",
            "|tt0000004|         Un bon bock|\n",
            "|tt0000004|      Un ţap de bere|\n",
            "|tt0000004|         Un bon bock|\n",
            "+---------+--------------------+\n",
            "only showing top 20 rows\n",
            "\n"
          ],
          "name": "stdout"
        }
      ]
    },
    {
      "cell_type": "code",
      "metadata": {
        "colab": {
          "base_uri": "https://localhost:8080/"
        },
        "id": "72UzDp-CPLbf",
        "outputId": "5bd9fc46-11cf-417d-addc-5e175ba618c7"
      },
      "source": [
        "df.printSchema()"
      ],
      "execution_count": 13,
      "outputs": [
        {
          "output_type": "stream",
          "text": [
            "root\n",
            " |-- titleId: string (nullable = true)\n",
            " |-- title: string (nullable = true)\n",
            "\n"
          ],
          "name": "stdout"
        }
      ]
    },
    {
      "cell_type": "code",
      "metadata": {
        "id": "OjvpZs8zPLbk"
      },
      "source": [
        "df2 = session.read.csv(\"/content/imdb-dataset/name.basics.tsv\", sep=r'\\t', header=True)"
      ],
      "execution_count": 14,
      "outputs": []
    },
    {
      "cell_type": "code",
      "metadata": {
        "colab": {
          "base_uri": "https://localhost:8080/"
        },
        "id": "sbmplXh_PLbm",
        "outputId": "d9190a6f-7dc4-49f4-be2d-3c0bdbbbd0f8"
      },
      "source": [
        "df2.show()"
      ],
      "execution_count": 15,
      "outputs": [
        {
          "output_type": "stream",
          "text": [
            "+---------+-------------------+---------+---------+--------------------+--------------------+\n",
            "|   nconst|        primaryName|birthYear|deathYear|   primaryProfession|      knownForTitles|\n",
            "+---------+-------------------+---------+---------+--------------------+--------------------+\n",
            "|nm0000001|       Fred Astaire|     1899|     1987|soundtrack,actor,...|tt0050419,tt00531...|\n",
            "|nm0000002|      Lauren Bacall|     1924|     2014|  actress,soundtrack|tt0071877,tt01170...|\n",
            "|nm0000003|    Brigitte Bardot|     1934|       \\N|actress,soundtrac...|tt0054452,tt00491...|\n",
            "|nm0000004|       John Belushi|     1949|     1982|actor,writer,soun...|tt0077975,tt00725...|\n",
            "|nm0000005|     Ingmar Bergman|     1918|     2007|writer,director,a...|tt0069467,tt00509...|\n",
            "|nm0000006|     Ingrid Bergman|     1915|     1982|actress,soundtrac...|tt0038109,tt00368...|\n",
            "|nm0000007|    Humphrey Bogart|     1899|     1957|actor,soundtrack,...|tt0043265,tt00338...|\n",
            "|nm0000008|      Marlon Brando|     1924|     2004|actor,soundtrack,...|tt0070849,tt00787...|\n",
            "|nm0000009|     Richard Burton|     1925|     1984|actor,producer,so...|tt0057877,tt00878...|\n",
            "|nm0000010|       James Cagney|     1899|     1986|actor,soundtrack,...|tt0035575,tt00318...|\n",
            "|nm0000011|        Gary Cooper|     1901|     1961|actor,soundtrack,...|tt0027996,tt00341...|\n",
            "|nm0000012|        Bette Davis|     1908|     1989|actress,soundtrac...|tt0031210,tt00421...|\n",
            "|nm0000013|          Doris Day|     1922|     2019|soundtrack,actres...|tt0053172,tt00551...|\n",
            "|nm0000014|Olivia de Havilland|     1916|       \\N|  actress,soundtrack|tt0029843,tt00313...|\n",
            "|nm0000015|         James Dean|     1931|     1955| actor,miscellaneous|tt0048545,tt00480...|\n",
            "|nm0000016|    Georges Delerue|     1925|     1992|composer,soundtra...|tt0096320,tt00917...|\n",
            "|nm0000017|   Marlene Dietrich|     1901|     1992|soundtrack,actres...|tt0051201,tt00211...|\n",
            "|nm0000018|       Kirk Douglas|     1916|       \\N|actor,producer,so...|tt0054331,tt00433...|\n",
            "|nm0000019|   Federico Fellini|     1920|     1993|writer,director,a...|tt0053779,tt00507...|\n",
            "|nm0000020|        Henry Fonda|     1905|     1982|actor,producer,so...|tt0082846,tt00325...|\n",
            "+---------+-------------------+---------+---------+--------------------+--------------------+\n",
            "only showing top 20 rows\n",
            "\n"
          ],
          "name": "stdout"
        }
      ]
    },
    {
      "cell_type": "code",
      "metadata": {
        "id": "roBvPrKUPLbo"
      },
      "source": [
        "names= session.read.csv(\"/content/imdb-dataset/title.principals.tsv\", sep=r'\\t', header=True).sample(0.1)"
      ],
      "execution_count": 16,
      "outputs": []
    },
    {
      "cell_type": "code",
      "metadata": {
        "id": "1-_Ou7HhPLbq"
      },
      "source": [
        "names = names.where((names.category == \"actor\") | (names.category == \"actress\")).select(\"tconst\",\"nconst\")"
      ],
      "execution_count": 17,
      "outputs": []
    },
    {
      "cell_type": "code",
      "metadata": {
        "colab": {
          "base_uri": "https://localhost:8080/"
        },
        "id": "6LgQdJ9LPLbs",
        "outputId": "41612d42-e2d2-4ee2-df71-50fe1973b899"
      },
      "source": [
        "names.show(truncate=False)"
      ],
      "execution_count": 18,
      "outputs": [
        {
          "output_type": "stream",
          "text": [
            "+---------+---------+\n",
            "|tconst   |nconst   |\n",
            "+---------+---------+\n",
            "|tt0000018|nm3692071|\n",
            "|tt0000026|nm2350007|\n",
            "|tt0000026|nm0525907|\n",
            "|tt0000061|nm4007970|\n",
            "|tt0000112|nm0420198|\n",
            "|tt0000121|nm0832461|\n",
            "|tt0000165|nm0556371|\n",
            "|tt0000215|nm0841389|\n",
            "|tt0000235|nm0194945|\n",
            "|tt0000246|nm0617588|\n",
            "|tt0000247|nm0002504|\n",
            "|tt0000305|nm0112631|\n",
            "|tt0000310|nm0151209|\n",
            "|tt0000376|nm0617272|\n",
            "|tt0000439|nm0055661|\n",
            "|tt0000442|nm0622273|\n",
            "|tt0000452|nm0001908|\n",
            "|tt0000480|nm0617588|\n",
            "|tt0000487|nm0523316|\n",
            "|tt0000488|nm0422465|\n",
            "+---------+---------+\n",
            "only showing top 20 rows\n",
            "\n"
          ],
          "name": "stdout"
        }
      ]
    },
    {
      "cell_type": "code",
      "metadata": {
        "id": "hRrDCNjzPLbv"
      },
      "source": [
        "movie_names =df2.join(names,\"nconst\",'inner')"
      ],
      "execution_count": 19,
      "outputs": []
    },
    {
      "cell_type": "code",
      "metadata": {
        "colab": {
          "base_uri": "https://localhost:8080/"
        },
        "id": "n5YtyBQGPLbw",
        "outputId": "88b2cf39-eca0-4f3e-9564-8d4f1d2cec48"
      },
      "source": [
        "movie_names.show(truncate=False)"
      ],
      "execution_count": 20,
      "outputs": [
        {
          "output_type": "stream",
          "text": [
            "+---------+--------------+---------+---------+-------------------------+---------------------------------------+---------+\n",
            "|nconst   |primaryName   |birthYear|deathYear|primaryProfession        |knownForTitles                         |tconst   |\n",
            "+---------+--------------+---------+---------+-------------------------+---------------------------------------+---------+\n",
            "|nm0000086|Louis de Funès|1914     |1983     |actor,writer,soundtrack  |tt0074103,tt0058135,tt0083109,tt0069747|tt0053076|\n",
            "|nm0000086|Louis de Funès|1914     |1983     |actor,writer,soundtrack  |tt0074103,tt0058135,tt0083109,tt0069747|tt0054394|\n",
            "|nm0000198|Gary Oldman   |1958     |\\N       |actor,soundtrack,producer|tt0103874,tt1340800,tt0468569,tt4555426|tt0091954|\n",
            "|nm0000198|Gary Oldman   |1958     |\\N       |actor,soundtrack,producer|tt0103874,tt1340800,tt0468569,tt4555426|tt0095158|\n",
            "|nm0000198|Gary Oldman   |1958     |\\N       |actor,soundtrack,producer|tt0103874,tt1340800,tt0468569,tt4555426|tt0103874|\n",
            "|nm0000198|Gary Oldman   |1958     |\\N       |actor,soundtrack,producer|tt0103874,tt1340800,tt0468569,tt4555426|tt3239932|\n",
            "|nm0000198|Gary Oldman   |1958     |\\N       |actor,soundtrack,producer|tt0103874,tt1340800,tt0468569,tt4555426|tt6128888|\n",
            "|nm0000198|Gary Oldman   |1958     |\\N       |actor,soundtrack,producer|tt0103874,tt1340800,tt0468569,tt4555426|tt7107486|\n",
            "|nm0000354|Matt Damon    |1970     |\\N       |producer,actor,soundtrack|tt0119217,tt0407887,tt0134119,tt3659388|tt0594913|\n",
            "|nm0000354|Matt Damon    |1970     |\\N       |producer,actor,soundtrack|tt0119217,tt0407887,tt0134119,tt3659388|tt1535108|\n",
            "|nm0000354|Matt Damon    |1970     |\\N       |producer,actor,soundtrack|tt0119217,tt0407887,tt0134119,tt3659388|tt5469654|\n",
            "|nm0000354|Matt Damon    |1970     |\\N       |producer,actor,soundtrack|tt0119217,tt0407887,tt0134119,tt3659388|tt7399476|\n",
            "|nm0000362|Danny DeVito  |1944     |\\N       |actor,producer,director  |tt0103776,tt0098621,tt0117008,tt0094142|tt0086425|\n",
            "|nm0000362|Danny DeVito  |1944     |\\N       |actor,producer,director  |tt0103776,tt0098621,tt0117008,tt0094142|tt0092226|\n",
            "|nm0000362|Danny DeVito  |1944     |\\N       |actor,producer,director  |tt0103776,tt0098621,tt0117008,tt0094142|tt0117008|\n",
            "|nm0000362|Danny DeVito  |1944     |\\N       |actor,producer,director  |tt0103776,tt0098621,tt0117008,tt0094142|tt0119978|\n",
            "|nm0000362|Danny DeVito  |1944     |\\N       |actor,producer,director  |tt0103776,tt0098621,tt0117008,tt0094142|tt0189584|\n",
            "|nm0000362|Danny DeVito  |1944     |\\N       |actor,producer,director  |tt0103776,tt0098621,tt0117008,tt0094142|tt0718461|\n",
            "|nm0000362|Danny DeVito  |1944     |\\N       |actor,producer,director  |tt0103776,tt0098621,tt0117008,tt0094142|tt0718463|\n",
            "|nm0000362|Danny DeVito  |1944     |\\N       |actor,producer,director  |tt0103776,tt0098621,tt0117008,tt0094142|tt0718493|\n",
            "+---------+--------------+---------+---------+-------------------------+---------------------------------------+---------+\n",
            "only showing top 20 rows\n",
            "\n"
          ],
          "name": "stdout"
        }
      ]
    },
    {
      "cell_type": "code",
      "metadata": {
        "colab": {
          "base_uri": "https://localhost:8080/"
        },
        "id": "OWgsLYg5PLbz",
        "outputId": "caee6213-a53c-43d3-e443-8ee25bc9c680"
      },
      "source": [
        "splited = movie_names.select(\"primaryName\",\"knownForTitles\",split(\"knownForTitles\",\",\").alias(\"split\"))\n",
        "exploded = splited.select(\"primaryName\",explode(\"split\").alias(\"titleId\"))\n",
        "exploded.show()"
      ],
      "execution_count": 21,
      "outputs": [
        {
          "output_type": "stream",
          "text": [
            "+--------------+---------+\n",
            "|   primaryName|  titleId|\n",
            "+--------------+---------+\n",
            "|Louis de Funès|tt0074103|\n",
            "|Louis de Funès|tt0058135|\n",
            "|Louis de Funès|tt0083109|\n",
            "|Louis de Funès|tt0069747|\n",
            "|Louis de Funès|tt0074103|\n",
            "|Louis de Funès|tt0058135|\n",
            "|Louis de Funès|tt0083109|\n",
            "|Louis de Funès|tt0069747|\n",
            "|   Gary Oldman|tt0103874|\n",
            "|   Gary Oldman|tt1340800|\n",
            "|   Gary Oldman|tt0468569|\n",
            "|   Gary Oldman|tt4555426|\n",
            "|   Gary Oldman|tt0103874|\n",
            "|   Gary Oldman|tt1340800|\n",
            "|   Gary Oldman|tt0468569|\n",
            "|   Gary Oldman|tt4555426|\n",
            "|   Gary Oldman|tt0103874|\n",
            "|   Gary Oldman|tt1340800|\n",
            "|   Gary Oldman|tt0468569|\n",
            "|   Gary Oldman|tt4555426|\n",
            "+--------------+---------+\n",
            "only showing top 20 rows\n",
            "\n"
          ],
          "name": "stdout"
        }
      ]
    },
    {
      "cell_type": "code",
      "metadata": {
        "colab": {
          "base_uri": "https://localhost:8080/"
        },
        "id": "GEJHvaAMPLb1",
        "outputId": "6f675a95-74f8-481f-b514-a8664b464dfa"
      },
      "source": [
        "exploded.where(\"titleId == 'tt0117057'\").show()"
      ],
      "execution_count": 22,
      "outputs": [
        {
          "output_type": "stream",
          "text": [
            "+----------------+---------+\n",
            "|     primaryName|  titleId|\n",
            "+----------------+---------+\n",
            "|Barbra Streisand|tt0117057|\n",
            "|Barbra Streisand|tt0117057|\n",
            "|    William Cain|tt0117057|\n",
            "|  Lesley Garrett|tt0117057|\n",
            "|      Jimmy Baio|tt0117057|\n",
            "|      Jimmy Baio|tt0117057|\n",
            "|      Jimmy Baio|tt0117057|\n",
            "|      Jimmy Baio|tt0117057|\n",
            "|      Jimmy Baio|tt0117057|\n",
            "|      Jimmy Baio|tt0117057|\n",
            "|      Jimmy Baio|tt0117057|\n",
            "|      Jimmy Baio|tt0117057|\n",
            "|      Jimmy Baio|tt0117057|\n",
            "| Anne O'Sullivan|tt0117057|\n",
            "|   Lauren Bacall|tt0117057|\n",
            "|   Lauren Bacall|tt0117057|\n",
            "|   Lauren Bacall|tt0117057|\n",
            "|   Lauren Bacall|tt0117057|\n",
            "|   Lauren Bacall|tt0117057|\n",
            "|   Lauren Bacall|tt0117057|\n",
            "+----------------+---------+\n",
            "only showing top 20 rows\n",
            "\n"
          ],
          "name": "stdout"
        }
      ]
    },
    {
      "cell_type": "code",
      "metadata": {
        "id": "h7Q5CNafPLb3"
      },
      "source": [
        "prepared_df = exploded.join(df,\"titleId\",\"inner\")"
      ],
      "execution_count": 23,
      "outputs": []
    },
    {
      "cell_type": "code",
      "metadata": {
        "colab": {
          "base_uri": "https://localhost:8080/"
        },
        "id": "poyfxYRbPLb5",
        "outputId": "22286df2-c950-4ec5-89a4-8ba3eeba2292"
      },
      "source": [
        " prepared_df.where(\"title == 'Lucille Love: The Girl of Mystery'\").show(truncate=False)"
      ],
      "execution_count": 24,
      "outputs": [
        {
          "output_type": "stream",
          "text": [
            "+---------+-------------+---------------------------------+\n",
            "|titleId  |primaryName  |title                            |\n",
            "+---------+-------------+---------------------------------+\n",
            "|tt0004272|Harry Schumm |Lucille Love: The Girl of Mystery|\n",
            "|tt0004272|Harry Schumm |Lucille Love: The Girl of Mystery|\n",
            "|tt0004272|Harry Schumm |Lucille Love: The Girl of Mystery|\n",
            "|tt0004272|Harry Schumm |Lucille Love: The Girl of Mystery|\n",
            "|tt0004272|Harry Schumm |Lucille Love: The Girl of Mystery|\n",
            "|tt0004272|Harry Schumm |Lucille Love: The Girl of Mystery|\n",
            "|tt0004272|Harry Schumm |Lucille Love: The Girl of Mystery|\n",
            "|tt0004272|Harry Schumm |Lucille Love: The Girl of Mystery|\n",
            "|tt0004272|Harry Schumm |Lucille Love: The Girl of Mystery|\n",
            "|tt0004272|Harry Schumm |Lucille Love: The Girl of Mystery|\n",
            "|tt0004272|Harry Schumm |Lucille Love: The Girl of Mystery|\n",
            "|tt0004272|Harry Schumm |Lucille Love: The Girl of Mystery|\n",
            "|tt0004272|Burton Law   |Lucille Love: The Girl of Mystery|\n",
            "|tt0004272|Burton Law   |Lucille Love: The Girl of Mystery|\n",
            "|tt0004272|Burton Law   |Lucille Love: The Girl of Mystery|\n",
            "|tt0004272|Burton Law   |Lucille Love: The Girl of Mystery|\n",
            "|tt0004272|Burton Law   |Lucille Love: The Girl of Mystery|\n",
            "|tt0004272|Burton Law   |Lucille Love: The Girl of Mystery|\n",
            "|tt0004272|Jean Hathaway|Lucille Love: The Girl of Mystery|\n",
            "|tt0004272|Jean Hathaway|Lucille Love: The Girl of Mystery|\n",
            "+---------+-------------+---------------------------------+\n",
            "only showing top 20 rows\n",
            "\n"
          ],
          "name": "stdout"
        }
      ]
    },
    {
      "cell_type": "code",
      "metadata": {
        "colab": {
          "base_uri": "https://localhost:8080/"
        },
        "id": "Caa10rylPLb8",
        "outputId": "2ac37a5d-b3ae-4b3a-c962-9ce5b8542ca9"
      },
      "source": [
        "prepared_df.groupBy(\"title\",\"primaryName\").count().show()"
      ],
      "execution_count": 25,
      "outputs": [
        {
          "output_type": "stream",
          "text": [
            "+--------------------+--------------------+-----+\n",
            "|               title|         primaryName|count|\n",
            "+--------------------+--------------------+-----+\n",
            "|Den gaadefulde Villa|           Hal Forde|    1|\n",
            "|     Paradise Garden|         George Hupp|    2|\n",
            "|La conquête de Ja...|Eunice Murdock Moore|    2|\n",
            "|Dürfen wir schwei...|        Bella Polini|    2|\n",
            "|Torchy Blane in P...|           Lola Lane|   10|\n",
            "|      Sarlo Diktatör|          Eddie Dunn|    7|\n",
            "|           O Ditador|    Paulette Goddard|    3|\n",
            "|     Veliki diktator|           Nita Pike|    3|\n",
            "|  O Grande Escândalo|          Frank Orth|   14|\n",
            "| Его девушка Пятница|          Helen Mack|    2|\n",
            "|Dziewczyna Pietaszek|        Ernest Truex|   25|\n",
            "|     Siste sensasjon|        Regis Toomey|   32|\n",
            "|La croix de Lorraine|    Jack Edwards Jr.|    2|\n",
            "|   Éljen a szerelem!|        Ray McDonald|    1|\n",
            "|       Leve kärleken|        Ray McDonald|    1|\n",
            "|I doukissa kai o ...|       Árpád Lehotay|    1|\n",
            "|      Saiturin joulu|     Ernest Thesiger|    3|\n",
            "|Zumbis da Estrato...|         Wilson Wood|    1|\n",
            "|    Hölle unter Null|          Paul Homer|    2|\n",
            "|Instinto Sanguinário|     Maureen Hingert|    2|\n",
            "+--------------------+--------------------+-----+\n",
            "only showing top 20 rows\n",
            "\n"
          ],
          "name": "stdout"
        }
      ]
    },
    {
      "cell_type": "code",
      "metadata": {
        "id": "I359OCepPLb_"
      },
      "source": [
        "basket  =prepared_df.groupBy(\"title\").agg(F.collect_set(\"primaryName\")).cache()"
      ],
      "execution_count": 26,
      "outputs": []
    },
    {
      "cell_type": "code",
      "metadata": {
        "id": "NEqK2QbEPLcB"
      },
      "source": [
        "from pyspark.ml.fpm import FPGrowth\n",
        "## modeling FP Growth alforithm to get Frequent Itemsets\n",
        "\n",
        "fpGrowth = FPGrowth(itemsCol=\"collect_set(primaryName)\", minSupport=0.0001, minConfidence=0.001)\n",
        "model = fpGrowth.fit(basket)"
      ],
      "execution_count": 27,
      "outputs": []
    },
    {
      "cell_type": "code",
      "metadata": {
        "colab": {
          "base_uri": "https://localhost:8080/"
        },
        "id": "0tQ3fOK9PLcD",
        "scrolled": true,
        "outputId": "579e5502-a675-44c0-8de7-fea231deb297"
      },
      "source": [
        "model.freqItemsets.show(truncate= False)"
      ],
      "execution_count": 28,
      "outputs": [
        {
          "output_type": "stream",
          "text": [
            "+-------------------+----+\n",
            "|items              |freq|\n",
            "+-------------------+----+\n",
            "|[Steven Spielberg] |144 |\n",
            "|[Paul Walker]      |131 |\n",
            "|[Marina Sirtis]    |126 |\n",
            "|[Paul Herman]      |109 |\n",
            "|[Nick Keller]      |108 |\n",
            "|[Charles Cyphers]  |122 |\n",
            "|[Nelly]            |119 |\n",
            "|[Peter Bull]       |116 |\n",
            "|[Richard Cox]      |114 |\n",
            "|[Melanie Hill]     |112 |\n",
            "|[Robby Robinson]   |110 |\n",
            "|[David Bradley]    |271 |\n",
            "|[Pat O'Brien]      |122 |\n",
            "|[Byron Thames]     |119 |\n",
            "|[Robert Pastorelli]|116 |\n",
            "|[David Goldsmith]  |114 |\n",
            "|[Peter Ramsey]     |112 |\n",
            "|[Matthew Walker]   |242 |\n",
            "|[Michael Anthony]  |143 |\n",
            "|[Edward Binns]     |131 |\n",
            "+-------------------+----+\n",
            "only showing top 20 rows\n",
            "\n"
          ],
          "name": "stdout"
        }
      ]
    },
    {
      "cell_type": "code",
      "metadata": {
        "colab": {
          "base_uri": "https://localhost:8080/"
        },
        "id": "egB83kPVPLcF",
        "outputId": "92c658c9-d63c-47e0-f287-43161bc25be3"
      },
      "source": [
        "model.associationRules.show(truncate=False)"
      ],
      "execution_count": 29,
      "outputs": [
        {
          "output_type": "stream",
          "text": [
            "+-----------------------------------------------------------------------------------------------------------------------+---------------------+----------+------------------+---------------------+\n",
            "|antecedent                                                                                                             |consequent           |confidence|lift              |support              |\n",
            "+-----------------------------------------------------------------------------------------------------------------------+---------------------+----------+------------------+---------------------+\n",
            "|[Stephen Hunter, William Kircher, Sylvester McCoy, Dean O'Gorman, Graham McTavish, Ken Stott, Aidan Turner, Adam Brown]|[Peter Hambleton]    |1.0       |8218.576923076922 |1.1231590720834133E-4|\n",
            "|[Stephen Hunter, William Kircher, Sylvester McCoy, Dean O'Gorman, Graham McTavish, Ken Stott, Aidan Turner, Adam Brown]|[Richard Armitage]   |1.0       |7368.379310344827 |1.1231590720834133E-4|\n",
            "|[Stephen Hunter, William Kircher, Sylvester McCoy, Dean O'Gorman, Graham McTavish, Ken Stott, Aidan Turner, Adam Brown]|[Dean Knowsley]      |1.0       |7368.379310344827 |1.1231590720834133E-4|\n",
            "|[Stephen Hunter, William Kircher, Sylvester McCoy, Dean O'Gorman, Graham McTavish, Ken Stott, Aidan Turner, Adam Brown]|[Martin Freeman]     |1.0       |7914.185185185185 |1.1231590720834133E-4|\n",
            "|[Stephen Hunter, William Kircher, Sylvester McCoy, Dean O'Gorman, Graham McTavish, Ken Stott, Aidan Turner, Adam Brown]|[John Callen]        |1.0       |8412.716535433072 |1.1231590720834133E-4|\n",
            "|[Michael Haigney, John Loeffler, Rica Matsumoto, Yûji Ueda, Mayumi Izuka]                                              |[Rachael Lillis]     |1.0       |6636.11801242236  |1.3197119096980105E-4|\n",
            "|[Michael Haigney, John Loeffler, Rica Matsumoto, Yûji Ueda, Mayumi Izuka]                                              |[Eric Stuart]        |1.0       |6595.1543209876545|1.3197119096980105E-4|\n",
            "|[Michael Haigney, John Loeffler, Rica Matsumoto, Yûji Ueda, Mayumi Izuka]                                              |[Veronica Taylor]    |1.0       |6002.331460674158 |1.3197119096980105E-4|\n",
            "|[Michael Haigney, John Loeffler, Rica Matsumoto, Yûji Ueda, Mayumi Izuka]                                              |[Ayako Shiraishi]    |1.0       |5479.051282051282 |1.3197119096980105E-4|\n",
            "|[Michael Haigney, John Loeffler, Rica Matsumoto, Yûji Ueda, Mayumi Izuka]                                              |[Madeleine Blaustein]|1.0       |5263.128078817735 |1.3197119096980105E-4|\n",
            "|[Michael Haigney, John Loeffler, Rica Matsumoto, Yûji Ueda, Mayumi Izuka]                                              |[Inuko Inuyama]      |1.0       |5870.412087912087 |1.3197119096980105E-4|\n",
            "|[Michael Haigney, John Loeffler, Rica Matsumoto, Yûji Ueda, Mayumi Izuka]                                              |[Chinami Nishimura]  |1.0       |6248.040935672514 |1.3197119096980105E-4|\n",
            "|[Michael Haigney, John Loeffler, Rica Matsumoto, Yûji Ueda, Mayumi Izuka]                                              |[Ikue Ôtani]         |1.0       |6248.040935672514 |1.3197119096980105E-4|\n",
            "|[Michael Haigney, John Loeffler, Rica Matsumoto, Yûji Ueda, Mayumi Izuka]                                              |[Rodger Parsons]     |1.0       |7419.54861111111  |1.3197119096980105E-4|\n",
            "|[Stephen Hunter, Martin Freeman, Graham McTavish, Richard Armitage, Aidan Turner, Adam Brown]                          |[Sylvester McCoy]    |1.0       |8346.9921875      |1.1231590720834133E-4|\n",
            "|[Stephen Hunter, Martin Freeman, Graham McTavish, Richard Armitage, Aidan Turner, Adam Brown]                          |[William Kircher]    |1.0       |8686.30081300813  |1.1231590720834133E-4|\n",
            "|[Stephen Hunter, Martin Freeman, Graham McTavish, Richard Armitage, Aidan Turner, Adam Brown]                          |[Peter Hambleton]    |1.0       |8218.576923076922 |1.1231590720834133E-4|\n",
            "|[Stephen Hunter, Martin Freeman, Graham McTavish, Richard Armitage, Aidan Turner, Adam Brown]                          |[John Callen]        |1.0       |8412.716535433072 |1.1231590720834133E-4|\n",
            "|[Stephen Hunter, Martin Freeman, Graham McTavish, Richard Armitage, Aidan Turner, Adam Brown]                          |[Dean O'Gorman]      |1.0       |7973.246268656716 |1.1231590720834133E-4|\n",
            "|[Stephen Hunter, Martin Freeman, Graham McTavish, Richard Armitage, Aidan Turner, Adam Brown]                          |[Ken Stott]          |1.0       |7122.766666666666 |1.1231590720834133E-4|\n",
            "+-----------------------------------------------------------------------------------------------------------------------+---------------------+----------+------------------+---------------------+\n",
            "only showing top 20 rows\n",
            "\n"
          ],
          "name": "stdout"
        }
      ]
    },
    {
      "cell_type": "code",
      "metadata": {
        "id": "KmQsB_3bPLcH",
        "colab": {
          "base_uri": "https://localhost:8080/"
        },
        "outputId": "6e84e150-af76-48dd-80a2-f98f9ac8f81d"
      },
      "source": [
        "lists = basket.select(\"collect_set(primaryName)\").withColumnRenamed(\"collect_set(primaryName)\",\"primary_names\").sample(0.00001).collect()\n",
        "sno_id_array = [ row.primary_names for row in lists]\n",
        "sno_id_array"
      ],
      "execution_count": 30,
      "outputs": [
        {
          "output_type": "execute_result",
          "data": {
            "text/plain": [
              "[['Christos Doxaras'],\n",
              " ['Leon Errol', 'Gladys Hurlbut', 'Paul Hartman'],\n",
              " ['Tony Martin', 'Hazel Shaw', 'Charles Dale', 'Joe Smith'],\n",
              " ['Dorléac'],\n",
              " ['Gilbert Green', 'Ross Martin'],\n",
              " ['Rika Dialyna', 'Alexander Welbat'],\n",
              " ['CJ Jones',\n",
              "  'Billy Chase Goforth',\n",
              "  'Victor Pongonis',\n",
              "  'Lauren Harper',\n",
              "  'Mark Landon Smith',\n",
              "  'Mitchell Crisp'],\n",
              " ['Greg Strempler'],\n",
              " ['Stephen Rea',\n",
              "  'Catlin Adams',\n",
              "  'India Eisley',\n",
              "  'Cameron Grierson',\n",
              "  'Jacob Blair',\n",
              "  'Kris Holden-Ried',\n",
              "  'Nils Lagergren',\n",
              "  'Robert Lawrenson'],\n",
              " ['Candy Jones'],\n",
              " ['John Connon',\n",
              "  'Joan Gregson',\n",
              "  'Jay Ryan',\n",
              "  'Bill Skarsgård',\n",
              "  'Ryan Kiera Armstrong',\n",
              "  'Jake Weary',\n",
              "  'Jack Dylan Grazer',\n",
              "  'Liam MacDonald',\n",
              "  'Sebastian Nagy',\n",
              "  'Billy Merasty',\n",
              "  'Angelica Alejandro',\n",
              "  'Rob Ramsay',\n",
              "  'Isaiah Mustafa',\n",
              "  'Chris Tarpos',\n",
              "  'Brandon Crane',\n",
              "  'Jeremy Ray Taylor',\n",
              "  'Molly Atkinson',\n",
              "  'Will Beinbrink',\n",
              "  'Robert C. Eaton',\n",
              "  'Janet Porter',\n",
              "  'Owen Teague',\n",
              "  'Divan Meyer',\n",
              "  'Jake Sim',\n",
              "  'Logan Thompson',\n",
              "  'Michael Rutherford',\n",
              "  'Joe Bostick',\n",
              "  'Geoff Scovell',\n",
              "  'Kate Corbett',\n",
              "  'Andy Bean',\n",
              "  'Sophia Lillis',\n",
              "  'Lisa Cromarty'],\n",
              " ['Christine van Meeteren',\n",
              "  'Willem Faassen',\n",
              "  'Koba Kinsbergen',\n",
              "  'Coen Hissink'],\n",
              " ['Brandi Chastain'],\n",
              " ['Mathieu Ziegler',\n",
              "  'Antonio Buíl',\n",
              "  'Alain Bellot',\n",
              "  'Jérémie Petrus',\n",
              "  'Stéphanie Schneider',\n",
              "  'Joëlle Séchaud',\n",
              "  'Almir Imsirevic']]"
            ]
          },
          "metadata": {
            "tags": []
          },
          "execution_count": 30
        }
      ]
    },
    {
      "cell_type": "code",
      "metadata": {
        "id": "RMJN4rWK4LRi"
      },
      "source": [
        "lblitems =sc.parallelize(sno_id_array)\n",
        "wlitems=lblitems.flatMap(lambda line:line)"
      ],
      "execution_count": 31,
      "outputs": []
    },
    {
      "cell_type": "code",
      "metadata": {
        "id": "80s96Mf04i4J"
      },
      "source": [
        "uniqueItems = wlitems.distinct()\n",
        "supportRdd = wlitems.map(lambda item: (item , 1))\n",
        "\n",
        "def sumOparator(x,y):\n",
        "    return x+y\n",
        "\n",
        "supportRdd = supportRdd.reduceByKey(sumOparator) \n",
        "supports = supportRdd.map(lambda item: item[1]) # Return only support values"
      ],
      "execution_count": 32,
      "outputs": []
    },
    {
      "cell_type": "code",
      "metadata": {
        "colab": {
          "base_uri": "https://localhost:8080/"
        },
        "id": "B031LKkX5H5b",
        "outputId": "7df27432-24ae-47ff-8fba-e0367679a24c"
      },
      "source": [
        "\n",
        "minSupport = supports.min()\n",
        "\n",
        "minSupport = 2 if minSupport == 1 else minSupport\n",
        "\n",
        "supportRdd = supportRdd.filter(lambda item: item[1] >= minSupport )\n",
        "\n",
        "baseRdd = supportRdd.map(lambda item: ([item[0]] , item[1])) \n",
        "print('1 . Table has crated...') \n",
        "\n",
        "supportRdd = supportRdd.map(lambda item: item[0])\n",
        "supportRddCart = supportRdd"
      ],
      "execution_count": 33,
      "outputs": [
        {
          "output_type": "stream",
          "text": [
            "1 . Table has crated...\n"
          ],
          "name": "stdout"
        }
      ]
    },
    {
      "cell_type": "code",
      "metadata": {
        "id": "Wd-2m4y_5hp2"
      },
      "source": [
        "\n",
        "def removeReplica(record):\n",
        "\n",
        "    if(isinstance(record[0], tuple)):\n",
        "        x1 = record[0]\n",
        "        x2 = record[1]\n",
        "    else:\n",
        "        x1 = [record[0]]\n",
        "        x2 = record[1]\n",
        "\n",
        "    if(any(x == x2 for x in x1) == False):\n",
        "        a = list(x1)\n",
        "        a.append(x2)\n",
        "        a.sort()\n",
        "        result = tuple(a)\n",
        "        return result \n",
        "    else:\n",
        "        return x1"
      ],
      "execution_count": 34,
      "outputs": []
    },
    {
      "cell_type": "code",
      "metadata": {
        "id": "iw8GtLpY5mU9"
      },
      "source": [
        "c = 2 \n",
        "\n",
        "while(supportRdd.isEmpty() == False):\n",
        "\n",
        "    combined = supportRdd.cartesian(uniqueItems)\n",
        "    combined = combined.map(lambda item: removeReplica(item))\n",
        "  \n",
        "    combined = combined.filter(lambda item: len(item) == c)\n",
        "    combined = combined.distinct()\n",
        "\n",
        "    \n",
        "    combined_2 = combined.cartesian(lblitems)\n",
        "    combined_2 = combined_2.filter(lambda item: all(x in item[1] for x in item[0]))\n",
        "    \n",
        "    combined_2 = combined_2.map(lambda item: item[0])\n",
        "    combined_2 = combined_2.map(lambda item: (item , 1))\n",
        "    combined_2 = combined_2.reduceByKey(sumOparator)\n",
        "    combined_2 = combined_2.filter(lambda item: item[1] >= minSupport)\n",
        "\n",
        "    baseRdd = baseRdd.union(combined_2)\n",
        "    \n",
        "    combined_2 = combined_2.map(lambda item: item[0])\n",
        "    supportRdd = combined_2\n",
        "    print(c ,'. Table has crated... ')\n",
        "    c = c+1 "
      ],
      "execution_count": 35,
      "outputs": []
    },
    {
      "cell_type": "code",
      "metadata": {
        "id": "mcDptwjE5q6k"
      },
      "source": [
        "class Filter():\n",
        "\n",
        "    def __init__(self):\n",
        "        \n",
        "        self.stages = 1\n",
        "\n",
        "\n",
        "    def filterForConf(self, item , total):\n",
        "        \n",
        "        if(len(item[0][0]) > len(item[1][0])  ):\n",
        "            if(self.checkItemSets(item[0][0] , item[1][0]) == False):\n",
        "                pass\n",
        "            else:\n",
        "                return (item)       \n",
        "        else:\n",
        "            pass  \n",
        "        self.stages = self.stages + 1\n",
        "\n",
        "    def checkItemSets(self, item_1 , item_2):\n",
        "\n",
        "        if(len(item_1) > len(item_2)):\n",
        "            return all(any(k == l for k in item_1 ) for l in item_2)\n",
        "        else:\n",
        "            return all(any(k == l for k in item_2 ) for l in item_1)\n",
        "\n",
        "\n",
        "    def calculateConfidence(self, item):\n",
        "\n",
        "        parent = set(item[0][0])\n",
        "        \n",
        "        if(isinstance(item[1][0] , str)):\n",
        "            child  = set([item[1][0]])\n",
        "        else:\n",
        "            child  = set(item[1][0])\n",
        "        \n",
        "        parentSupport = item[0][1]\n",
        "        childSupport = item[1][1]\n",
        "       \n",
        "\n",
        "        support = (parentSupport / childSupport)*100\n",
        "\n",
        "        return list([ list(child) ,  list(parent.difference(child)) , support ])"
      ],
      "execution_count": 36,
      "outputs": []
    },
    {
      "cell_type": "code",
      "metadata": {
        "id": "PxnRqO3hey5H"
      },
      "source": [
        "calcuItems = baseRdd.cartesian(baseRdd)"
      ],
      "execution_count": 37,
      "outputs": []
    },
    {
      "cell_type": "code",
      "metadata": {
        "id": "KJy-OGJKfTzO"
      },
      "source": [
        "ff = Filter()"
      ],
      "execution_count": 38,
      "outputs": []
    },
    {
      "cell_type": "code",
      "metadata": {
        "id": "eVT8dQM7fT9j"
      },
      "source": [
        "total = calcuItems.count()"
      ],
      "execution_count": 39,
      "outputs": []
    },
    {
      "cell_type": "code",
      "metadata": {
        "id": "NXWkolv4fUOh",
        "colab": {
          "base_uri": "https://localhost:8080/"
        },
        "outputId": "6c896604-0dad-4855-8b16-45678111a46a"
      },
      "source": [
        "print('# : Aggregated support values preparing for the confidence calculatations')\n",
        "baseRddConfidence = calcuItems.filter(lambda item: ff.filterForConf(item , total))"
      ],
      "execution_count": 40,
      "outputs": [
        {
          "output_type": "stream",
          "text": [
            "# : Aggregated support values preparing for the confidence calculatations\n"
          ],
          "name": "stdout"
        }
      ]
    },
    {
      "cell_type": "code",
      "metadata": {
        "id": "VWraVhHxfkLo",
        "colab": {
          "base_uri": "https://localhost:8080/"
        },
        "outputId": "41ded7e9-f42d-492e-be44-c7e5cda7193d"
      },
      "source": [
        "print('# : Aggregated support values are ready !')\n",
        "baseRddConfidence = baseRddConfidence.map(lambda item: ff.calculateConfidence(item))"
      ],
      "execution_count": 41,
      "outputs": [
        {
          "output_type": "stream",
          "text": [
            "# : Aggregated support values are ready !\n"
          ],
          "name": "stdout"
        }
      ]
    },
    {
      "cell_type": "code",
      "metadata": {
        "id": "x1JecLzIfkfy",
        "colab": {
          "base_uri": "https://localhost:8080/"
        },
        "outputId": "60dc6b67-8e1d-437a-f3bc-0ce15454326d"
      },
      "source": [
        "print(baseRddConfidence.collect())\n",
        "## No confidence could be made in current use case "
      ],
      "execution_count": 42,
      "outputs": [
        {
          "output_type": "stream",
          "text": [
            "[]\n"
          ],
          "name": "stdout"
        }
      ]
    }
  ]
}