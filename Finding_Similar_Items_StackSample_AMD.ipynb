{
  "nbformat": 4,
  "nbformat_minor": 0,
  "metadata": {
    "colab": {
      "name": "Finding-Similar-Items_StackSample_AMD.ipynb",
      "provenance": []
    },
    "kernelspec": {
      "display_name": "Python 3",
      "language": "python",
      "name": "python3"
    },
    "language_info": {
      "codemirror_mode": {
        "name": "ipython",
        "version": 3
      },
      "file_extension": ".py",
      "mimetype": "text/x-python",
      "name": "python",
      "nbconvert_exporter": "python",
      "pygments_lexer": "ipython3",
      "version": "3.9.1"
    }
  },
  "cells": [
    {
      "cell_type": "code",
      "metadata": {
        "colab": {
          "resources": {
            "http://localhost:8080/nbextensions/google.colab/files.js": {
              "data": "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",
              "ok": true,
              "headers": [
                [
                  "content-type",
                  "application/javascript"
                ]
              ],
              "status": 200,
              "status_text": ""
            }
          },
          "base_uri": "https://localhost:8080/",
          "height": 82
        },
        "id": "jn7ByzJsotfV",
        "outputId": "d0079731-7493-443d-8e9c-eff99bbfd374"
      },
      "source": [
        "#Upload your kaggle API json file:\n",
        "from google.colab import files\n",
        "files.upload()\n"
      ],
      "execution_count": 1,
      "outputs": [
        {
          "output_type": "display_data",
          "data": {
            "text/html": [
              "\n",
              "     <input type=\"file\" id=\"files-9879d165-63fd-4443-a119-d448d8987daf\" name=\"files[]\" multiple disabled\n",
              "        style=\"border:none\" />\n",
              "     <output id=\"result-9879d165-63fd-4443-a119-d448d8987daf\">\n",
              "      Upload widget is only available when the cell has been executed in the\n",
              "      current browser session. Please rerun this cell to enable.\n",
              "      </output>\n",
              "      <script src=\"/nbextensions/google.colab/files.js\"></script> "
            ],
            "text/plain": [
              "<IPython.core.display.HTML object>"
            ]
          },
          "metadata": {}
        },
        {
          "output_type": "stream",
          "name": "stdout",
          "text": [
            "Saving kaggle.json to kaggle.json\n"
          ]
        },
        {
          "output_type": "execute_result",
          "data": {
            "text/plain": [
              "{'kaggle.json': b'{\"username\":\"vamsipvs\",\"key\":\"11b9c77decceaea998a95ec44402006f\"}'}"
            ]
          },
          "metadata": {},
          "execution_count": 1
        }
      ]
    },
    {
      "cell_type": "code",
      "metadata": {
        "id": "xedG0ePpoykn"
      },
      "source": [
        "!mkdir -p ~/.kaggle\n",
        "!cp kaggle.json ~/.kaggle/\n",
        "!chmod 600 ~/.kaggle/kaggle.json"
      ],
      "execution_count": 2,
      "outputs": []
    },
    {
      "cell_type": "code",
      "metadata": {
        "colab": {
          "base_uri": "https://localhost:8080/"
        },
        "id": "mkpL4wqSo_vB",
        "outputId": "d73e1b44-4a5c-4460-a3ca-1a45c0cc1b2d"
      },
      "source": [
        "!kaggle datasets download -d stackoverflow/stacksample\n"
      ],
      "execution_count": 3,
      "outputs": [
        {
          "output_type": "stream",
          "name": "stdout",
          "text": [
            "Downloading stacksample.zip to /content\n",
            "100% 1.11G/1.11G [00:09<00:00, 151MB/s]\n",
            "\n"
          ]
        }
      ]
    },
    {
      "cell_type": "code",
      "metadata": {
        "id": "GDUbcgxzpCey",
        "colab": {
          "base_uri": "https://localhost:8080/"
        },
        "outputId": "2f4992be-06f3-49b7-a534-a52fecde490c"
      },
      "source": [
        "!unzip stacksample.zip "
      ],
      "execution_count": 4,
      "outputs": [
        {
          "output_type": "stream",
          "name": "stdout",
          "text": [
            "Archive:  stacksample.zip\n",
            "  inflating: Answers.csv             \n",
            "  inflating: Questions.csv           \n",
            "  inflating: Tags.csv                \n"
          ]
        }
      ]
    },
    {
      "cell_type": "code",
      "metadata": {
        "id": "m4lxO-HWplZr"
      },
      "source": [
        "!apt-get install openjdk-8-jdk-headless -qq > /dev/null\n",
        "!wget -q https://dlcdn.apache.org/spark/spark-3.1.2/spark-3.1.2-bin-hadoop3.2.tgz \n",
        "!tar xf spark-3.1.2-bin-hadoop3.2.tgz\n",
        "!pip install -q findspark"
      ],
      "execution_count": 5,
      "outputs": []
    },
    {
      "cell_type": "code",
      "metadata": {
        "id": "Qj5RRGfqpoie"
      },
      "source": [
        "## importing libraries\n",
        "import os\n",
        "os.environ[\"JAVA_HOME\"] = \"/usr/lib/jvm/java-8-openjdk-amd64\"\n",
        "os.environ[\"SPARK_HOME\"] = \"/content/spark-3.1.2-bin-hadoop3.2\"\n",
        "import findspark\n",
        "findspark.init(\"spark-3.1.2-bin-hadoop3.2\")# SPARK_HOME\n",
        "from pyspark.sql import SparkSession\n",
        "session = SparkSession.builder.master(\"local[*]\").getOrCreate()"
      ],
      "execution_count": 6,
      "outputs": []
    },
    {
      "cell_type": "code",
      "metadata": {
        "id": "oNWvQb9Yp7AG"
      },
      "source": [
        "questions = session.read.option(\"header\",\"true\").csv('Questions.csv').select('Body')\n"
      ],
      "execution_count": 7,
      "outputs": []
    },
    {
      "cell_type": "code",
      "metadata": {
        "colab": {
          "base_uri": "https://localhost:8080/"
        },
        "id": "Rw306Aawq_UV",
        "outputId": "400f5e4e-4817-46d1-d215-7e1f15d02cf8"
      },
      "source": [
        "questions.show()"
      ],
      "execution_count": 8,
      "outputs": [
        {
          "output_type": "stream",
          "name": "stdout",
          "text": [
            "+--------------------+\n",
            "|                Body|\n",
            "+--------------------+\n",
            "|\"<p>I've written ...|\n",
            "|                null|\n",
            "|                null|\n",
            "|                null|\n",
            "|                null|\n",
            "|                null|\n",
            "|                null|\n",
            "|                null|\n",
            "|                null|\n",
            "|                null|\n",
            "|                null|\n",
            "|                null|\n",
            "|                null|\n",
            "|                null|\n",
            "|                null|\n",
            "|                null|\n",
            "|                null|\n",
            "|                null|\n",
            "|                null|\n",
            "|                null|\n",
            "+--------------------+\n",
            "only showing top 20 rows\n",
            "\n"
          ]
        }
      ]
    },
    {
      "cell_type": "code",
      "metadata": {
        "colab": {
          "base_uri": "https://localhost:8080/"
        },
        "id": "_mYMyPIJ_9pC",
        "outputId": "8e37a9d9-1096-4c51-ccd8-7f73f25a9121"
      },
      "source": [
        "questions.count()"
      ],
      "execution_count": 9,
      "outputs": [
        {
          "output_type": "execute_result",
          "data": {
            "text/plain": [
              "33149724"
            ]
          },
          "metadata": {},
          "execution_count": 9
        }
      ]
    },
    {
      "cell_type": "code",
      "metadata": {
        "id": "MzMDvyAfinUM"
      },
      "source": [
        "data = questions.na.drop()"
      ],
      "execution_count": 10,
      "outputs": []
    },
    {
      "cell_type": "code",
      "metadata": {
        "colab": {
          "base_uri": "https://localhost:8080/"
        },
        "id": "9VDK9K0DqVGk",
        "outputId": "7a47953a-a0af-4eae-81d3-4a6cc17e70c1"
      },
      "source": [
        "data.count()"
      ],
      "execution_count": 11,
      "outputs": [
        {
          "output_type": "execute_result",
          "data": {
            "text/plain": [
              "1404281"
            ]
          },
          "metadata": {},
          "execution_count": 11
        }
      ]
    },
    {
      "cell_type": "code",
      "metadata": {
        "colab": {
          "base_uri": "https://localhost:8080/"
        },
        "id": "NabJBy6u3Ts2",
        "outputId": "a2b42bd1-dad2-4f91-b588-fcf2c480d6bd"
      },
      "source": [
        "data.show()"
      ],
      "execution_count": 12,
      "outputs": [
        {
          "output_type": "stream",
          "name": "stdout",
          "text": [
            "+--------------------+\n",
            "|                Body|\n",
            "+--------------------+\n",
            "|\"<p>I've written ...|\n",
            "|\"<p>Are there any...|\n",
            "|<p>Has anyone got...|\n",
            "|<p>This is someth...|\n",
            "|<p>I have a littl...|\n",
            "|<p>I am working o...|\n",
            "|<p>I've been writ...|\n",
            "|<p>I wonder how y...|\n",
            "|<p>I would like t...|\n",
            "|<p>I'm trying to ...|\n",
            "| and haven't seen...|\n",
            "|<p>What's the sim...|\n",
            "|<p>I need to grab...|\n",
            "|<p>I'm looking fo...|\n",
            "|<p>What is the co...|\n",
            "|<p>I am using CCN...|\n",
            "|<p>I am looking t...|\n",
            "|<p>I am using MSB...|\n",
            "|<p>I'm setting up...|\n",
            "|<p>I always creat...|\n",
            "+--------------------+\n",
            "only showing top 20 rows\n",
            "\n"
          ]
        }
      ]
    },
    {
      "cell_type": "code",
      "metadata": {
        "id": "f6qzftn6E4hp"
      },
      "source": [
        "#regular expression removal\n",
        "from pyspark.sql.functions import *\n",
        "\n",
        "def clean_text(c):\n",
        "  c = lower(c)\n",
        "  c = regexp_replace(c, \"<p>\", \"\")\n",
        "  c = regexp_replace(c, \"</p>\", \"\")\n",
        "  c = regexp_replace(c, \"<code>\", \"\")\n",
        "  c = regexp_replace(c, \"</code>\", \"\")\n",
        "  c = regexp_replace(c, \"'ve\", \"\")\n",
        "  c = regexp_replace(c, \"'m¢\", \"\")\n",
        "  c = regexp_replace(c, \"<[^>]+>\", \"\")\n",
        "  c = regexp_replace(c, \"[^a-zA-Z0-9\\\\s]\", \"\")\n",
        "  c = regexp_replace(c, \"(https?\\://)\\S+\", \"\")\n",
        "  return c\n",
        "\n",
        "cleaned_data = data.select(clean_text(col(\"Body\")).alias(\"Body\"))"
      ],
      "execution_count": 13,
      "outputs": []
    },
    {
      "cell_type": "code",
      "metadata": {
        "colab": {
          "base_uri": "https://localhost:8080/"
        },
        "id": "7rAcfOBfbsOW",
        "outputId": "403127fd-6a56-4ea5-d9c0-be6bf7510aca"
      },
      "source": [
        "cleaned_data.show()"
      ],
      "execution_count": 14,
      "outputs": [
        {
          "output_type": "stream",
          "name": "stdout",
          "text": [
            "+--------------------+\n",
            "|                Body|\n",
            "+--------------------+\n",
            "|i written a datab...|\n",
            "|are there any rea...|\n",
            "|has anyone got ex...|\n",
            "|this is something...|\n",
            "|i have a little g...|\n",
            "|i am working on a...|\n",
            "|i been writing a ...|\n",
            "|i wonder how you ...|\n",
            "|i would like the ...|\n",
            "|im trying to main...|\n",
            "| and havent seen ...|\n",
            "|whats the simples...|\n",
            "|i need to grab th...|\n",
            "|im looking for a ...|\n",
            "|what is the corre...|\n",
            "|i am using ccnet ...|\n",
            "|i am looking to a...|\n",
            "|i am using msbuil...|\n",
            "|im setting up a d...|\n",
            "|i always create a...|\n",
            "+--------------------+\n",
            "only showing top 20 rows\n",
            "\n"
          ]
        }
      ]
    },
    {
      "cell_type": "code",
      "metadata": {
        "colab": {
          "base_uri": "https://localhost:8080/"
        },
        "id": "o73j2zapb2Zs",
        "outputId": "920bed94-1fe8-44d5-d9ea-b76705d7391a"
      },
      "source": [
        "#feature transformation\n",
        "from pyspark.ml.feature import Tokenizer\n",
        "from pyspark.sql.functions import col, udf    \n",
        "from pyspark.sql.types import IntegerType\n",
        "tokenizer = Tokenizer(inputCol=\"Body\", outputCol=\"Words\")\n",
        "tokenized = tokenizer.transform(cleaned_data)\n",
        "no_tokens = udf(lambda words: len(words), IntegerType())\n",
        "tokenized.select(\"Body\", \"Words\").withColumn(\"Number_of_tokens\", no_tokens(col(\"Words\"))).show()\n"
      ],
      "execution_count": 15,
      "outputs": [
        {
          "output_type": "stream",
          "name": "stdout",
          "text": [
            "+--------------------+--------------------+----------------+\n",
            "|                Body|               Words|Number_of_tokens|\n",
            "+--------------------+--------------------+----------------+\n",
            "|i written a datab...|[i, written, a, d...|              18|\n",
            "|are there any rea...|[are, there, any,...|              13|\n",
            "|has anyone got ex...|[has, anyone, got...|               9|\n",
            "|this is something...|[this, is, someth...|              41|\n",
            "|i have a little g...|[i, have, a, litt...|              15|\n",
            "|i am working on a...|[i, am, working, ...|              46|\n",
            "|i been writing a ...|[i, been, writing...|              46|\n",
            "|i wonder how you ...|[i, wonder, how, ...|              18|\n",
            "|i would like the ...|[i, would, like, ...|              47|\n",
            "|im trying to main...|[im, trying, to, ...|              66|\n",
            "| and havent seen ...|[, and, havent, s...|              21|\n",
            "|whats the simples...|[whats, the, simp...|              17|\n",
            "|i need to grab th...|[i, need, to, gra...|              26|\n",
            "|im looking for a ...|[im, looking, for...|              61|\n",
            "|what is the corre...|[what, is, the, c...|              26|\n",
            "|i am using ccnet ...|[i, am, using, cc...|              33|\n",
            "|i am looking to a...|[i, am, looking, ...|              24|\n",
            "|i am using msbuil...|[i, am, using, ms...|              17|\n",
            "|im setting up a d...|[im, setting, up,...|              33|\n",
            "|i always create a...|[i, always, creat...|              36|\n",
            "+--------------------+--------------------+----------------+\n",
            "only showing top 20 rows\n",
            "\n"
          ]
        }
      ]
    },
    {
      "cell_type": "code",
      "metadata": {
        "colab": {
          "base_uri": "https://localhost:8080/"
        },
        "id": "ZFtpUIDog3dD",
        "outputId": "b233c540-2d1c-4453-848b-03dcaebd72f5"
      },
      "source": [
        "tokenized.show()"
      ],
      "execution_count": 16,
      "outputs": [
        {
          "output_type": "stream",
          "name": "stdout",
          "text": [
            "+--------------------+--------------------+\n",
            "|                Body|               Words|\n",
            "+--------------------+--------------------+\n",
            "|i written a datab...|[i, written, a, d...|\n",
            "|are there any rea...|[are, there, any,...|\n",
            "|has anyone got ex...|[has, anyone, got...|\n",
            "|this is something...|[this, is, someth...|\n",
            "|i have a little g...|[i, have, a, litt...|\n",
            "|i am working on a...|[i, am, working, ...|\n",
            "|i been writing a ...|[i, been, writing...|\n",
            "|i wonder how you ...|[i, wonder, how, ...|\n",
            "|i would like the ...|[i, would, like, ...|\n",
            "|im trying to main...|[im, trying, to, ...|\n",
            "| and havent seen ...|[, and, havent, s...|\n",
            "|whats the simples...|[whats, the, simp...|\n",
            "|i need to grab th...|[i, need, to, gra...|\n",
            "|im looking for a ...|[im, looking, for...|\n",
            "|what is the corre...|[what, is, the, c...|\n",
            "|i am using ccnet ...|[i, am, using, cc...|\n",
            "|i am looking to a...|[i, am, looking, ...|\n",
            "|i am using msbuil...|[i, am, using, ms...|\n",
            "|im setting up a d...|[im, setting, up,...|\n",
            "|i always create a...|[i, always, creat...|\n",
            "+--------------------+--------------------+\n",
            "only showing top 20 rows\n",
            "\n"
          ]
        }
      ]
    },
    {
      "cell_type": "code",
      "metadata": {
        "colab": {
          "base_uri": "https://localhost:8080/"
        },
        "id": "GxbU3ziEhBnZ",
        "outputId": "b1ad6f7f-7041-4630-b2e1-48fa74784b8d"
      },
      "source": [
        "tokenized.dtypes"
      ],
      "execution_count": 17,
      "outputs": [
        {
          "output_type": "execute_result",
          "data": {
            "text/plain": [
              "[('Body', 'string'), ('Words', 'array<string>')]"
            ]
          },
          "metadata": {},
          "execution_count": 17
        }
      ]
    },
    {
      "cell_type": "code",
      "metadata": {
        "colab": {
          "base_uri": "https://localhost:8080/"
        },
        "id": "yWx24shOoLqO",
        "outputId": "5c8c5fed-b936-4baf-f1e8-a645c9feacc9"
      },
      "source": [
        "from pyspark.ml.feature import StopWordsRemover\n",
        "default_stopwords = StopWordsRemover()\n",
        "def_stopwords = default_stopwords.getStopWords() \n",
        "def_stopwords[:20]"
      ],
      "execution_count": 18,
      "outputs": [
        {
          "output_type": "execute_result",
          "data": {
            "text/plain": [
              "['i',\n",
              " 'me',\n",
              " 'my',\n",
              " 'myself',\n",
              " 'we',\n",
              " 'our',\n",
              " 'ours',\n",
              " 'ourselves',\n",
              " 'you',\n",
              " 'your',\n",
              " 'yours',\n",
              " 'yourself',\n",
              " 'yourselves',\n",
              " 'he',\n",
              " 'him',\n",
              " 'his',\n",
              " 'himself',\n",
              " 'she',\n",
              " 'her',\n",
              " 'hers']"
            ]
          },
          "metadata": {},
          "execution_count": 18
        }
      ]
    },
    {
      "cell_type": "code",
      "metadata": {
        "id": "-sBptToqenhy"
      },
      "source": [
        "remover = StopWordsRemover(inputCol=\"Words\", outputCol=\"Filtered\")\n",
        "Removed_data = remover.transform(tokenized)"
      ],
      "execution_count": 19,
      "outputs": []
    },
    {
      "cell_type": "code",
      "metadata": {
        "id": "ZC7wI651E4hw"
      },
      "source": [
        "removed_data2 = Removed_data.filter(size(col(\"Filtered\")) >=1 )"
      ],
      "execution_count": 20,
      "outputs": []
    },
    {
      "cell_type": "code",
      "metadata": {
        "colab": {
          "base_uri": "https://localhost:8080/"
        },
        "id": "rlIOoyqUiTnS",
        "outputId": "82c9a1c0-10d2-409f-81bc-d988d06b0eb1"
      },
      "source": [
        "removed_data2.show()"
      ],
      "execution_count": 21,
      "outputs": [
        {
          "output_type": "stream",
          "name": "stdout",
          "text": [
            "+--------------------+--------------------+--------------------+\n",
            "|                Body|               Words|            Filtered|\n",
            "+--------------------+--------------------+--------------------+\n",
            "|i written a datab...|[i, written, a, d...|[written, databas...|\n",
            "|are there any rea...|[are, there, any,...|[really, good, tu...|\n",
            "|has anyone got ex...|[has, anyone, got...|[anyone, got, exp...|\n",
            "|this is something...|[this, is, someth...|[something, pseud...|\n",
            "|i have a little g...|[i, have, a, litt...|[little, game, wr...|\n",
            "|i am working on a...|[i, am, working, ...|[working, collect...|\n",
            "|i been writing a ...|[i, been, writing...|[writing, web, se...|\n",
            "|i wonder how you ...|[i, wonder, how, ...|[wonder, guys, ma...|\n",
            "|i would like the ...|[i, would, like, ...|[like, version, p...|\n",
            "|im trying to main...|[im, trying, to, ...|[im, trying, main...|\n",
            "| and havent seen ...|[, and, havent, s...|[, havent, seen, ...|\n",
            "|whats the simples...|[whats, the, simp...|[whats, simplest,...|\n",
            "|i need to grab th...|[i, need, to, gra...|[need, grab, base...|\n",
            "|im looking for a ...|[im, looking, for...|[im, looking, way...|\n",
            "|what is the corre...|[what, is, the, c...|[correct, way, ge...|\n",
            "|i am using ccnet ...|[i, am, using, cc...|[using, ccnet, sa...|\n",
            "|i am looking to a...|[i, am, looking, ...|[looking, allow, ...|\n",
            "|i am using msbuil...|[i, am, using, ms...|[using, msbuild, ...|\n",
            "|im setting up a d...|[im, setting, up,...|[im, setting, ded...|\n",
            "|i always create a...|[i, always, creat...|[always, create, ...|\n",
            "+--------------------+--------------------+--------------------+\n",
            "only showing top 20 rows\n",
            "\n"
          ]
        }
      ]
    },
    {
      "cell_type": "code",
      "metadata": {
        "colab": {
          "base_uri": "https://localhost:8080/"
        },
        "id": "v0HcMZ9_pLyO",
        "outputId": "1b894352-f6c2-4fc1-a943-7d8cae76f177"
      },
      "source": [
        "removed_data2.dtypes"
      ],
      "execution_count": 22,
      "outputs": [
        {
          "output_type": "execute_result",
          "data": {
            "text/plain": [
              "[('Body', 'string'), ('Words', 'array<string>'), ('Filtered', 'array<string>')]"
            ]
          },
          "metadata": {},
          "execution_count": 22
        }
      ]
    },
    {
      "cell_type": "code",
      "metadata": {
        "id": "3yPDxeM_ik7r",
        "colab": {
          "base_uri": "https://localhost:8080/"
        },
        "outputId": "9d6dc4bc-1e03-449f-e093-4ef24da8b129"
      },
      "source": [
        "#feature extraction\n",
        "from pyspark.ml.feature import HashingTF, IDF\n",
        "hashingTF = HashingTF(inputCol=\"Filtered\", outputCol=\"RawFeatures\", numFeatures = 16)\n",
        "featurizedData = hashingTF.transform(removed_data2)\n",
        "\n",
        "idf = IDF(inputCol=\"RawFeatures\", outputCol=\"Features\")\n",
        "idfModel = idf.fit(featurizedData)\n",
        "rescaledData = idfModel.transform(featurizedData)\n",
        "rescaledData.show()\n"
      ],
      "execution_count": 23,
      "outputs": [
        {
          "output_type": "stream",
          "name": "stdout",
          "text": [
            "+--------------------+--------------------+--------------------+--------------------+--------------------+\n",
            "|                Body|               Words|            Filtered|         RawFeatures|            Features|\n",
            "+--------------------+--------------------+--------------------+--------------------+--------------------+\n",
            "|i written a datab...|[i, written, a, d...|[written, databas...|(16,[0,3,4,6,8,10...|(16,[0,3,4,6,8,10...|\n",
            "|are there any rea...|[are, there, any,...|[really, good, tu...|(16,[0,1,7,8,10,1...|(16,[0,1,7,8,10,1...|\n",
            "|has anyone got ex...|[has, anyone, got...|[anyone, got, exp...|(16,[3,5,6,7,10,1...|(16,[3,5,6,7,10,1...|\n",
            "|this is something...|[this, is, someth...|[something, pseud...|(16,[1,2,4,6,8,9,...|(16,[1,2,4,6,8,9,...|\n",
            "|i have a little g...|[i, have, a, litt...|[little, game, wr...|(16,[6,7,8,10,11,...|(16,[6,7,8,10,11,...|\n",
            "|i am working on a...|[i, am, working, ...|[working, collect...|(16,[1,2,3,4,5,7,...|(16,[1,2,3,4,5,7,...|\n",
            "|i been writing a ...|[i, been, writing...|[writing, web, se...|(16,[0,1,2,4,5,6,...|(16,[0,1,2,4,5,6,...|\n",
            "|i wonder how you ...|[i, wonder, how, ...|[wonder, guys, ma...|(16,[0,3,4,6,7,9,...|(16,[0,3,4,6,7,9,...|\n",
            "|i would like the ...|[i, would, like, ...|[like, version, p...|(16,[0,1,2,5,6,7,...|(16,[0,1,2,5,6,7,...|\n",
            "|im trying to main...|[im, trying, to, ...|[im, trying, main...|(16,[1,2,3,4,5,6,...|(16,[1,2,3,4,5,6,...|\n",
            "| and havent seen ...|[, and, havent, s...|[, havent, seen, ...|(16,[1,2,3,7,8,10...|(16,[1,2,3,7,8,10...|\n",
            "|whats the simples...|[whats, the, simp...|[whats, simplest,...|(16,[3,5,8,9,10,1...|(16,[3,5,8,9,10,1...|\n",
            "|i need to grab th...|[i, need, to, gra...|[need, grab, base...|(16,[1,2,4,5,7,9,...|(16,[1,2,4,5,7,9,...|\n",
            "|im looking for a ...|[im, looking, for...|[im, looking, way...|(16,[0,1,3,4,6,7,...|(16,[0,1,3,4,6,7,...|\n",
            "|what is the corre...|[what, is, the, c...|[correct, way, ge...|(16,[0,2,4,5,8,10...|(16,[0,2,4,5,8,10...|\n",
            "|i am using ccnet ...|[i, am, using, cc...|[using, ccnet, sa...|(16,[0,1,4,5,6,7,...|(16,[0,1,4,5,6,7,...|\n",
            "|i am looking to a...|[i, am, looking, ...|[looking, allow, ...|(16,[2,3,4,5,8,9,...|(16,[2,3,4,5,8,9,...|\n",
            "|i am using msbuil...|[i, am, using, ms...|[using, msbuild, ...|(16,[0,1,6,7,10,1...|(16,[0,1,6,7,10,1...|\n",
            "|im setting up a d...|[im, setting, up,...|[im, setting, ded...|(16,[0,2,3,4,5,7,...|(16,[0,2,3,4,5,7,...|\n",
            "|i always create a...|[i, always, creat...|[always, create, ...|(16,[0,1,3,9,10,1...|(16,[0,1,3,9,10,1...|\n",
            "+--------------------+--------------------+--------------------+--------------------+--------------------+\n",
            "only showing top 20 rows\n",
            "\n"
          ]
        }
      ]
    },
    {
      "cell_type": "code",
      "metadata": {
        "colab": {
          "base_uri": "https://localhost:8080/"
        },
        "id": "pESviFw2I8Ut",
        "outputId": "42496261-bb4f-45c4-a268-4abc08b9055f"
      },
      "source": [
        "rescaledData.dtypes"
      ],
      "execution_count": 24,
      "outputs": [
        {
          "output_type": "execute_result",
          "data": {
            "text/plain": [
              "[('Body', 'string'),\n",
              " ('Words', 'array<string>'),\n",
              " ('Filtered', 'array<string>'),\n",
              " ('RawFeatures', 'vector'),\n",
              " ('Features', 'vector')]"
            ]
          },
          "metadata": {},
          "execution_count": 24
        }
      ]
    },
    {
      "cell_type": "code",
      "metadata": {
        "id": "Apk3N-Ej6jOs"
      },
      "source": [
        "#locality sensitive hashing\n",
        "from pyspark.ml.feature import MinHashLSH\n",
        "from pyspark.ml.linalg import Vectors\n",
        "from pyspark.sql.functions import col\n",
        "\n",
        "mh = MinHashLSH(inputCol=\"Features\", outputCol=\"Hashes\", numHashTables = 10)\n",
        "model = mh.fit(rescaledData)\n",
        "Main = model.transform(rescaledData)"
      ],
      "execution_count": 25,
      "outputs": []
    },
    {
      "cell_type": "code",
      "metadata": {
        "colab": {
          "base_uri": "https://localhost:8080/"
        },
        "id": "aKZzWr0_04XG",
        "outputId": "58a2b551-9c8d-4d1b-b832-9525b9d2a332"
      },
      "source": [
        "Main.show()"
      ],
      "execution_count": 26,
      "outputs": [
        {
          "output_type": "stream",
          "name": "stdout",
          "text": [
            "+--------------------+--------------------+--------------------+--------------------+--------------------+--------------------+\n",
            "|                Body|               Words|            Filtered|         RawFeatures|            Features|              Hashes|\n",
            "+--------------------+--------------------+--------------------+--------------------+--------------------+--------------------+\n",
            "|i written a datab...|[i, written, a, d...|[written, databas...|(16,[0,3,4,6,8,10...|(16,[0,3,4,6,8,10...|[[3.22603552E8], ...|\n",
            "|are there any rea...|[are, there, any,...|[really, good, tu...|(16,[0,1,7,8,10,1...|(16,[0,1,7,8,10,1...|[[1.52291878E8], ...|\n",
            "|has anyone got ex...|[has, anyone, got...|[anyone, got, exp...|(16,[3,5,6,7,10,1...|(16,[3,5,6,7,10,1...|[[1.52291878E8], ...|\n",
            "|this is something...|[this, is, someth...|[something, pseud...|(16,[1,2,4,6,8,9,...|(16,[1,2,4,6,8,9,...|[[3.22603552E8], ...|\n",
            "|i have a little g...|[i, have, a, litt...|[little, game, wr...|(16,[6,7,8,10,11,...|(16,[6,7,8,10,11,...|[[1.52291878E8], ...|\n",
            "|i am working on a...|[i, am, working, ...|[working, collect...|(16,[1,2,3,4,5,7,...|(16,[1,2,3,4,5,7,...|[[1.52291878E8], ...|\n",
            "|i been writing a ...|[i, been, writing...|[writing, web, se...|(16,[0,1,2,4,5,6,...|(16,[0,1,2,4,5,6,...|[[1.52291878E8], ...|\n",
            "|i wonder how you ...|[i, wonder, how, ...|[wonder, guys, ma...|(16,[0,3,4,6,7,9,...|(16,[0,3,4,6,7,9,...|[[1.52291878E8], ...|\n",
            "|i would like the ...|[i, would, like, ...|[like, version, p...|(16,[0,1,2,5,6,7,...|(16,[0,1,2,5,6,7,...|[[1.52291878E8], ...|\n",
            "|im trying to main...|[im, trying, to, ...|[im, trying, main...|(16,[1,2,3,4,5,6,...|(16,[1,2,3,4,5,6,...|[[1.52291878E8], ...|\n",
            "| and havent seen ...|[, and, havent, s...|[, havent, seen, ...|(16,[1,2,3,7,8,10...|(16,[1,2,3,7,8,10...|[[1.52291878E8], ...|\n",
            "|whats the simples...|[whats, the, simp...|[whats, simplest,...|(16,[3,5,8,9,10,1...|(16,[3,5,8,9,10,1...|[[3.22603552E8], ...|\n",
            "|i need to grab th...|[i, need, to, gra...|[need, grab, base...|(16,[1,2,4,5,7,9,...|(16,[1,2,4,5,7,9,...|[[1.52291878E8], ...|\n",
            "|im looking for a ...|[im, looking, for...|[im, looking, way...|(16,[0,1,3,4,6,7,...|(16,[0,1,3,4,6,7,...|[[1.52291878E8], ...|\n",
            "|what is the corre...|[what, is, the, c...|[correct, way, ge...|(16,[0,2,4,5,8,10...|(16,[0,2,4,5,8,10...|[[3.22603552E8], ...|\n",
            "|i am using ccnet ...|[i, am, using, cc...|[using, ccnet, sa...|(16,[0,1,4,5,6,7,...|(16,[0,1,4,5,6,7,...|[[1.52291878E8], ...|\n",
            "|i am looking to a...|[i, am, looking, ...|[looking, allow, ...|(16,[2,3,4,5,8,9,...|(16,[2,3,4,5,8,9,...|[[3.22603552E8], ...|\n",
            "|i am using msbuil...|[i, am, using, ms...|[using, msbuild, ...|(16,[0,1,6,7,10,1...|(16,[0,1,6,7,10,1...|[[1.52291878E8], ...|\n",
            "|im setting up a d...|[im, setting, up,...|[im, setting, ded...|(16,[0,2,3,4,5,7,...|(16,[0,2,3,4,5,7,...|[[1.52291878E8], ...|\n",
            "|i always create a...|[i, always, creat...|[always, create, ...|(16,[0,1,3,9,10,1...|(16,[0,1,3,9,10,1...|[[4.92915226E8], ...|\n",
            "+--------------------+--------------------+--------------------+--------------------+--------------------+--------------------+\n",
            "only showing top 20 rows\n",
            "\n"
          ]
        }
      ]
    },
    {
      "cell_type": "code",
      "metadata": {
        "colab": {
          "base_uri": "https://localhost:8080/"
        },
        "id": "NRpXMxF53j14",
        "outputId": "b5561f0c-0415-4c2c-ed29-8c975d02a458"
      },
      "source": [
        "Main.dtypes"
      ],
      "execution_count": 27,
      "outputs": [
        {
          "output_type": "execute_result",
          "data": {
            "text/plain": [
              "[('Body', 'string'),\n",
              " ('Words', 'array<string>'),\n",
              " ('Filtered', 'array<string>'),\n",
              " ('RawFeatures', 'vector'),\n",
              " ('Features', 'vector'),\n",
              " ('Hashes', 'array<vector>')]"
            ]
          },
          "metadata": {},
          "execution_count": 27
        }
      ]
    },
    {
      "cell_type": "code",
      "metadata": {
        "colab": {
          "base_uri": "https://localhost:8080/"
        },
        "id": "9Cn5ouP6KO3r",
        "outputId": "b9cba2fe-c67e-4f95-f7a5-d5d42e26452e"
      },
      "source": [
        "key = rescaledData.select('Features').take(1)\n",
        "key"
      ],
      "execution_count": 28,
      "outputs": [
        {
          "output_type": "execute_result",
          "data": {
            "text/plain": [
              "[Row(Features=SparseVector(16, {0: 0.7131, 3: 0.7198, 4: 1.2929, 6: 0.8598, 8: 0.7486, 10: 0.7511, 13: 0.7707, 14: 1.739}))]"
            ]
          },
          "metadata": {},
          "execution_count": 28
        }
      ]
    },
    {
      "cell_type": "code",
      "metadata": {
        "id": "XvRpJNSGn4nb"
      },
      "source": [
        "mainkey = Vectors.sparse(16, {0: 0.7192, 3: 0.728, 4: 1.3066, 6: 0.8661, 8: 0.7596, 10: 0.756, 13: 0.7768, 14: 1.7499})"
      ],
      "execution_count": 29,
      "outputs": []
    },
    {
      "cell_type": "code",
      "metadata": {
        "colab": {
          "base_uri": "https://localhost:8080/"
        },
        "id": "VXZ4NCGfKJ-z",
        "outputId": "f7e043a7-a365-411c-faa7-3f4a5483843c"
      },
      "source": [
        "model.approxNearestNeighbors(rescaledData, mainkey, 10).show()"
      ],
      "execution_count": 31,
      "outputs": [
        {
          "output_type": "stream",
          "name": "stdout",
          "text": [
            "+--------------------+--------------------+--------------------+--------------------+--------------------+--------------------+-------+\n",
            "|                Body|               Words|            Filtered|         RawFeatures|            Features|              Hashes|distCol|\n",
            "+--------------------+--------------------+--------------------+--------------------+--------------------+--------------------+-------+\n",
            "|on selection chan...|[on, selection, c...|[selection, chang...|(16,[0,3,4,6,8,10...|(16,[0,3,4,6,8,10...|[[3.22603552E8], ...|    0.0|\n",
            "|good day guys can...|[good, day, guys,...|[good, day, guys,...|(16,[0,3,4,6,8,10...|(16,[0,3,4,6,8,10...|[[3.22603552E8], ...|    0.0|\n",
            "|i want to know wh...|[i, want, to, kno...|[want, know, noti...|(16,[0,3,4,6,8,10...|(16,[0,3,4,6,8,10...|[[3.22603552E8], ...|    0.0|\n",
            "|i am trying to fi...|[i, am, trying, t...|[trying, find, so...|(16,[0,3,4,6,8,10...|(16,[0,3,4,6,8,10...|[[3.22603552E8], ...|    0.0|\n",
            "|i am trying to ge...|[i, am, trying, t...|[trying, generate...|(16,[0,3,4,6,8,10...|(16,[0,3,4,6,8,10...|[[3.22603552E8], ...|    0.0|\n",
            "|i only want scrip...|[i, only, want, s...|[want, scripts, s...|(16,[0,3,4,6,8,10...|(16,[0,3,4,6,8,10...|[[3.22603552E8], ...|    0.0|\n",
            "|hi i got a set of...|[hi, i, got, a, s...|[hi, got, set, co...|(16,[0,3,4,6,8,10...|(16,[0,3,4,6,8,10...|[[3.22603552E8], ...|    0.0|\n",
            "|i am learning up ...|[i, am, learning,...|[learning, method...|(16,[0,3,4,6,8,10...|(16,[0,3,4,6,8,10...|[[3.22603552E8], ...|    0.0|\n",
            "|i am using code f...|[i, am, using, co...|[using, code, fir...|(16,[0,3,4,6,8,10...|(16,[0,3,4,6,8,10...|[[3.22603552E8], ...|    0.0|\n",
            "|i am trying to us...|[i, am, trying, t...|[trying, use, qui...|(16,[0,3,4,6,8,10...|(16,[0,3,4,6,8,10...|[[3.22603552E8], ...|    0.0|\n",
            "+--------------------+--------------------+--------------------+--------------------+--------------------+--------------------+-------+\n",
            "\n"
          ]
        }
      ]
    }
  ]
}