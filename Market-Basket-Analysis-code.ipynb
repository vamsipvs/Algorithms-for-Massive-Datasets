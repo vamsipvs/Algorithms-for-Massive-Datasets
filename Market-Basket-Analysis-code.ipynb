{
  "nbformat": 4,
  "nbformat_minor": 0,
  "metadata": {
    "colab": {
      "name": "Market.ipynb",
      "provenance": [],
      "collapsed_sections": []
    },
    "kernelspec": {
      "display_name": "Python 3",
      "language": "python",
      "name": "python3"
    },
    "language_info": {
      "codemirror_mode": {
        "name": "ipython",
        "version": 3
      },
      "file_extension": ".py",
      "mimetype": "text/x-python",
      "name": "python",
      "nbconvert_exporter": "python",
      "pygments_lexer": "ipython3",
      "version": "3.7.6"
    }
  },
  "cells": [
    {
      "cell_type": "code",
      "metadata": {
        "colab": {
          "resources": {
            "http://localhost:8080/nbextensions/google.colab/files.js": {
              "data": "Ly8gQ29weXJpZ2h0IDIwMTcgR29vZ2xlIExMQwovLwovLyBMaWNlbnNlZCB1bmRlciB0aGUgQXBhY2hlIExpY2Vuc2UsIFZlcnNpb24gMi4wICh0aGUgIkxpY2Vuc2UiKTsKLy8geW91IG1heSBub3QgdXNlIHRoaXMgZmlsZSBleGNlcHQgaW4gY29tcGxpYW5jZSB3aXRoIHRoZSBMaWNlbnNlLgovLyBZb3UgbWF5IG9idGFpbiBhIGNvcHkgb2YgdGhlIExpY2Vuc2UgYXQKLy8KLy8gICAgICBodHRwOi8vd3d3LmFwYWNoZS5vcmcvbGljZW5zZXMvTElDRU5TRS0yLjAKLy8KLy8gVW5sZXNzIHJlcXVpcmVkIGJ5IGFwcGxpY2FibGUgbGF3IG9yIGFncmVlZCB0byBpbiB3cml0aW5nLCBzb2Z0d2FyZQovLyBkaXN0cmlidXRlZCB1bmRlciB0aGUgTGljZW5zZSBpcyBkaXN0cmlidXRlZCBvbiBhbiAiQVMgSVMiIEJBU0lTLAovLyBXSVRIT1VUIFdBUlJBTlRJRVMgT1IgQ09ORElUSU9OUyBPRiBBTlkgS0lORCwgZWl0aGVyIGV4cHJlc3Mgb3IgaW1wbGllZC4KLy8gU2VlIHRoZSBMaWNlbnNlIGZvciB0aGUgc3BlY2lmaWMgbGFuZ3VhZ2UgZ292ZXJuaW5nIHBlcm1pc3Npb25zIGFuZAovLyBsaW1pdGF0aW9ucyB1bmRlciB0aGUgTGljZW5zZS4KCi8qKgogKiBAZmlsZW92ZXJ2aWV3IEhlbHBlcnMgZm9yIGdvb2dsZS5jb2xhYiBQeXRob24gbW9kdWxlLgogKi8KKGZ1bmN0aW9uKHNjb3BlKSB7CmZ1bmN0aW9uIHNwYW4odGV4dCwgc3R5bGVBdHRyaWJ1dGVzID0ge30pIHsKICBjb25zdCBlbGVtZW50ID0gZG9jdW1lbnQuY3JlYXRlRWxlbWVudCgnc3BhbicpOwogIGVsZW1lbnQudGV4dENvbnRlbnQgPSB0ZXh0OwogIGZvciAoY29uc3Qga2V5IG9mIE9iamVjdC5rZXlzKHN0eWxlQXR0cmlidXRlcykpIHsKICAgIGVsZW1lbnQuc3R5bGVba2V5XSA9IHN0eWxlQXR0cmlidXRlc1trZXldOwogIH0KICByZXR1cm4gZWxlbWVudDsKfQoKLy8gTWF4IG51bWJlciBvZiBieXRlcyB3aGljaCB3aWxsIGJlIHVwbG9hZGVkIGF0IGEgdGltZS4KY29uc3QgTUFYX1BBWUxPQURfU0laRSA9IDEwMCAqIDEwMjQ7CgpmdW5jdGlvbiBfdXBsb2FkRmlsZXMoaW5wdXRJZCwgb3V0cHV0SWQpIHsKICBjb25zdCBzdGVwcyA9IHVwbG9hZEZpbGVzU3RlcChpbnB1dElkLCBvdXRwdXRJZCk7CiAgY29uc3Qgb3V0cHV0RWxlbWVudCA9IGRvY3VtZW50LmdldEVsZW1lbnRCeUlkKG91dHB1dElkKTsKICAvLyBDYWNoZSBzdGVwcyBvbiB0aGUgb3V0cHV0RWxlbWVudCB0byBtYWtlIGl0IGF2YWlsYWJsZSBmb3IgdGhlIG5leHQgY2FsbAogIC8vIHRvIHVwbG9hZEZpbGVzQ29udGludWUgZnJvbSBQeXRob24uCiAgb3V0cHV0RWxlbWVudC5zdGVwcyA9IHN0ZXBzOwoKICByZXR1cm4gX3VwbG9hZEZpbGVzQ29udGludWUob3V0cHV0SWQpOwp9CgovLyBUaGlzIGlzIHJvdWdobHkgYW4gYXN5bmMgZ2VuZXJhdG9yIChub3Qgc3VwcG9ydGVkIGluIHRoZSBicm93c2VyIHlldCksCi8vIHdoZXJlIHRoZXJlIGFyZSBtdWx0aXBsZSBhc3luY2hyb25vdXMgc3RlcHMgYW5kIHRoZSBQeXRob24gc2lkZSBpcyBnb2luZwovLyB0byBwb2xsIGZvciBjb21wbGV0aW9uIG9mIGVhY2ggc3RlcC4KLy8gVGhpcyB1c2VzIGEgUHJvbWlzZSB0byBibG9jayB0aGUgcHl0aG9uIHNpZGUgb24gY29tcGxldGlvbiBvZiBlYWNoIHN0ZXAsCi8vIHRoZW4gcGFzc2VzIHRoZSByZXN1bHQgb2YgdGhlIHByZXZpb3VzIHN0ZXAgYXMgdGhlIGlucHV0IHRvIHRoZSBuZXh0IHN0ZXAuCmZ1bmN0aW9uIF91cGxvYWRGaWxlc0NvbnRpbnVlKG91dHB1dElkKSB7CiAgY29uc3Qgb3V0cHV0RWxlbWVudCA9IGRvY3VtZW50LmdldEVsZW1lbnRCeUlkKG91dHB1dElkKTsKICBjb25zdCBzdGVwcyA9IG91dHB1dEVsZW1lbnQuc3RlcHM7CgogIGNvbnN0IG5leHQgPSBzdGVwcy5uZXh0KG91dHB1dEVsZW1lbnQubGFzdFByb21pc2VWYWx1ZSk7CiAgcmV0dXJuIFByb21pc2UucmVzb2x2ZShuZXh0LnZhbHVlLnByb21pc2UpLnRoZW4oKHZhbHVlKSA9PiB7CiAgICAvLyBDYWNoZSB0aGUgbGFzdCBwcm9taXNlIHZhbHVlIHRvIG1ha2UgaXQgYXZhaWxhYmxlIHRvIHRoZSBuZXh0CiAgICAvLyBzdGVwIG9mIHRoZSBnZW5lcmF0b3IuCiAgICBvdXRwdXRFbGVtZW50Lmxhc3RQcm9taXNlVmFsdWUgPSB2YWx1ZTsKICAgIHJldHVybiBuZXh0LnZhbHVlLnJlc3BvbnNlOwogIH0pOwp9CgovKioKICogR2VuZXJhdG9yIGZ1bmN0aW9uIHdoaWNoIGlzIGNhbGxlZCBiZXR3ZWVuIGVhY2ggYXN5bmMgc3RlcCBvZiB0aGUgdXBsb2FkCiAqIHByb2Nlc3MuCiAqIEBwYXJhbSB7c3RyaW5nfSBpbnB1dElkIEVsZW1lbnQgSUQgb2YgdGhlIGlucHV0IGZpbGUgcGlja2VyIGVsZW1lbnQuCiAqIEBwYXJhbSB7c3RyaW5nfSBvdXRwdXRJZCBFbGVtZW50IElEIG9mIHRoZSBvdXRwdXQgZGlzcGxheS4KICogQHJldHVybiB7IUl0ZXJhYmxlPCFPYmplY3Q+fSBJdGVyYWJsZSBvZiBuZXh0IHN0ZXBzLgogKi8KZnVuY3Rpb24qIHVwbG9hZEZpbGVzU3RlcChpbnB1dElkLCBvdXRwdXRJZCkgewogIGNvbnN0IGlucHV0RWxlbWVudCA9IGRvY3VtZW50LmdldEVsZW1lbnRCeUlkKGlucHV0SWQpOwogIGlucHV0RWxlbWVudC5kaXNhYmxlZCA9IGZhbHNlOwoKICBjb25zdCBvdXRwdXRFbGVtZW50ID0gZG9jdW1lbnQuZ2V0RWxlbWVudEJ5SWQob3V0cHV0SWQpOwogIG91dHB1dEVsZW1lbnQuaW5uZXJIVE1MID0gJyc7CgogIGNvbnN0IHBpY2tlZFByb21pc2UgPSBuZXcgUHJvbWlzZSgocmVzb2x2ZSkgPT4gewogICAgaW5wdXRFbGVtZW50LmFkZEV2ZW50TGlzdGVuZXIoJ2NoYW5nZScsIChlKSA9PiB7CiAgICAgIHJlc29sdmUoZS50YXJnZXQuZmlsZXMpOwogICAgfSk7CiAgfSk7CgogIGNvbnN0IGNhbmNlbCA9IGRvY3VtZW50LmNyZWF0ZUVsZW1lbnQoJ2J1dHRvbicpOwogIGlucHV0RWxlbWVudC5wYXJlbnRFbGVtZW50LmFwcGVuZENoaWxkKGNhbmNlbCk7CiAgY2FuY2VsLnRleHRDb250ZW50ID0gJ0NhbmNlbCB1cGxvYWQnOwogIGNvbnN0IGNhbmNlbFByb21pc2UgPSBuZXcgUHJvbWlzZSgocmVzb2x2ZSkgPT4gewogICAgY2FuY2VsLm9uY2xpY2sgPSAoKSA9PiB7CiAgICAgIHJlc29sdmUobnVsbCk7CiAgICB9OwogIH0pOwoKICAvLyBXYWl0IGZvciB0aGUgdXNlciB0byBwaWNrIHRoZSBmaWxlcy4KICBjb25zdCBmaWxlcyA9IHlpZWxkIHsKICAgIHByb21pc2U6IFByb21pc2UucmFjZShbcGlja2VkUHJvbWlzZSwgY2FuY2VsUHJvbWlzZV0pLAogICAgcmVzcG9uc2U6IHsKICAgICAgYWN0aW9uOiAnc3RhcnRpbmcnLAogICAgfQogIH07CgogIGNhbmNlbC5yZW1vdmUoKTsKCiAgLy8gRGlzYWJsZSB0aGUgaW5wdXQgZWxlbWVudCBzaW5jZSBmdXJ0aGVyIHBpY2tzIGFyZSBub3QgYWxsb3dlZC4KICBpbnB1dEVsZW1lbnQuZGlzYWJsZWQgPSB0cnVlOwoKICBpZiAoIWZpbGVzKSB7CiAgICByZXR1cm4gewogICAgICByZXNwb25zZTogewogICAgICAgIGFjdGlvbjogJ2NvbXBsZXRlJywKICAgICAgfQogICAgfTsKICB9CgogIGZvciAoY29uc3QgZmlsZSBvZiBmaWxlcykgewogICAgY29uc3QgbGkgPSBkb2N1bWVudC5jcmVhdGVFbGVtZW50KCdsaScpOwogICAgbGkuYXBwZW5kKHNwYW4oZmlsZS5uYW1lLCB7Zm9udFdlaWdodDogJ2JvbGQnfSkpOwogICAgbGkuYXBwZW5kKHNwYW4oCiAgICAgICAgYCgke2ZpbGUudHlwZSB8fCAnbi9hJ30pIC0gJHtmaWxlLnNpemV9IGJ5dGVzLCBgICsKICAgICAgICBgbGFzdCBtb2RpZmllZDogJHsKICAgICAgICAgICAgZmlsZS5sYXN0TW9kaWZpZWREYXRlID8gZmlsZS5sYXN0TW9kaWZpZWREYXRlLnRvTG9jYWxlRGF0ZVN0cmluZygpIDoKICAgICAgICAgICAgICAgICAgICAgICAgICAgICAgICAgICAgJ24vYSd9IC0gYCkpOwogICAgY29uc3QgcGVyY2VudCA9IHNwYW4oJzAlIGRvbmUnKTsKICAgIGxpLmFwcGVuZENoaWxkKHBlcmNlbnQpOwoKICAgIG91dHB1dEVsZW1lbnQuYXBwZW5kQ2hpbGQobGkpOwoKICAgIGNvbnN0IGZpbGVEYXRhUHJvbWlzZSA9IG5ldyBQcm9taXNlKChyZXNvbHZlKSA9PiB7CiAgICAgIGNvbnN0IHJlYWRlciA9IG5ldyBGaWxlUmVhZGVyKCk7CiAgICAgIHJlYWRlci5vbmxvYWQgPSAoZSkgPT4gewogICAgICAgIHJlc29sdmUoZS50YXJnZXQucmVzdWx0KTsKICAgICAgfTsKICAgICAgcmVhZGVyLnJlYWRBc0FycmF5QnVmZmVyKGZpbGUpOwogICAgfSk7CiAgICAvLyBXYWl0IGZvciB0aGUgZGF0YSB0byBiZSByZWFkeS4KICAgIGxldCBmaWxlRGF0YSA9IHlpZWxkIHsKICAgICAgcHJvbWlzZTogZmlsZURhdGFQcm9taXNlLAogICAgICByZXNwb25zZTogewogICAgICAgIGFjdGlvbjogJ2NvbnRpbnVlJywKICAgICAgfQogICAgfTsKCiAgICAvLyBVc2UgYSBjaHVua2VkIHNlbmRpbmcgdG8gYXZvaWQgbWVzc2FnZSBzaXplIGxpbWl0cy4gU2VlIGIvNjIxMTU2NjAuCiAgICBsZXQgcG9zaXRpb24gPSAwOwogICAgZG8gewogICAgICBjb25zdCBsZW5ndGggPSBNYXRoLm1pbihmaWxlRGF0YS5ieXRlTGVuZ3RoIC0gcG9zaXRpb24sIE1BWF9QQVlMT0FEX1NJWkUpOwogICAgICBjb25zdCBjaHVuayA9IG5ldyBVaW50OEFycmF5KGZpbGVEYXRhLCBwb3NpdGlvbiwgbGVuZ3RoKTsKICAgICAgcG9zaXRpb24gKz0gbGVuZ3RoOwoKICAgICAgY29uc3QgYmFzZTY0ID0gYnRvYShTdHJpbmcuZnJvbUNoYXJDb2RlLmFwcGx5KG51bGwsIGNodW5rKSk7CiAgICAgIHlpZWxkIHsKICAgICAgICByZXNwb25zZTogewogICAgICAgICAgYWN0aW9uOiAnYXBwZW5kJywKICAgICAgICAgIGZpbGU6IGZpbGUubmFtZSwKICAgICAgICAgIGRhdGE6IGJhc2U2NCwKICAgICAgICB9LAogICAgICB9OwoKICAgICAgbGV0IHBlcmNlbnREb25lID0gZmlsZURhdGEuYnl0ZUxlbmd0aCA9PT0gMCA/CiAgICAgICAgICAxMDAgOgogICAgICAgICAgTWF0aC5yb3VuZCgocG9zaXRpb24gLyBmaWxlRGF0YS5ieXRlTGVuZ3RoKSAqIDEwMCk7CiAgICAgIHBlcmNlbnQudGV4dENvbnRlbnQgPSBgJHtwZXJjZW50RG9uZX0lIGRvbmVgOwoKICAgIH0gd2hpbGUgKHBvc2l0aW9uIDwgZmlsZURhdGEuYnl0ZUxlbmd0aCk7CiAgfQoKICAvLyBBbGwgZG9uZS4KICB5aWVsZCB7CiAgICByZXNwb25zZTogewogICAgICBhY3Rpb246ICdjb21wbGV0ZScsCiAgICB9CiAgfTsKfQoKc2NvcGUuZ29vZ2xlID0gc2NvcGUuZ29vZ2xlIHx8IHt9OwpzY29wZS5nb29nbGUuY29sYWIgPSBzY29wZS5nb29nbGUuY29sYWIgfHwge307CnNjb3BlLmdvb2dsZS5jb2xhYi5fZmlsZXMgPSB7CiAgX3VwbG9hZEZpbGVzLAogIF91cGxvYWRGaWxlc0NvbnRpbnVlLAp9Owp9KShzZWxmKTsK",
              "ok": true,
              "headers": [
                [
                  "content-type",
                  "application/javascript"
                ]
              ],
              "status": 200,
              "status_text": ""
            }
          },
          "base_uri": "https://localhost:8080/",
          "height": 49
        },
        "id": "SZANS0AtVyDF",
        "outputId": "ae9a34fc-a559-468a-9174-d0818525198a"
      },
      "source": [
        "#Upload your kaggle API json file:\n",
        "from google.colab import files\n",
        "files.upload()"
      ],
      "execution_count": 2,
      "outputs": [
        {
          "output_type": "display_data",
          "data": {
            "text/html": [
              "\n",
              "     <input type=\"file\" id=\"files-f49e35bb-edda-45e2-8a51-c1f9bee2f2ab\" name=\"files[]\" multiple disabled\n",
              "        style=\"border:none\" />\n",
              "     <output id=\"result-f49e35bb-edda-45e2-8a51-c1f9bee2f2ab\">\n",
              "      Upload widget is only available when the cell has been executed in the\n",
              "      current browser session. Please rerun this cell to enable.\n",
              "      </output>\n",
              "      <script src=\"/nbextensions/google.colab/files.js\"></script> "
            ],
            "text/plain": [
              "<IPython.core.display.HTML object>"
            ]
          },
          "metadata": {
            "tags": []
          }
        },
        {
          "output_type": "execute_result",
          "data": {
            "text/plain": [
              "{}"
            ]
          },
          "metadata": {
            "tags": []
          },
          "execution_count": 2
        }
      ]
    },
    {
      "cell_type": "code",
      "metadata": {
        "id": "CNh-GLa4VyGl"
      },
      "source": [
        "!mkdir -p ~/.kaggle\n",
        "!cp kaggle.json ~/.kaggle/\n",
        "!chmod 600 ~/.kaggle/kaggle.json"
      ],
      "execution_count": 3,
      "outputs": []
    },
    {
      "cell_type": "code",
      "metadata": {
        "colab": {
          "base_uri": "https://localhost:8080/"
        },
        "id": "fl66H2njXCPJ",
        "outputId": "5fc17a68-51c9-4c52-9990-f4a2c81800af"
      },
      "source": [
        "!kaggle datasets download -d ashirwadsangwan/imdb-dataset"
      ],
      "execution_count": 4,
      "outputs": [
        {
          "output_type": "stream",
          "text": [
            "Downloading imdb-dataset.zip to /content\n",
            " 99% 1.43G/1.44G [00:15<00:00, 109MB/s]\n",
            "100% 1.44G/1.44G [00:15<00:00, 99.3MB/s]\n"
          ],
          "name": "stdout"
        }
      ]
    },
    {
      "cell_type": "code",
      "metadata": {
        "colab": {
          "base_uri": "https://localhost:8080/"
        },
        "id": "s82jQLyOXvmu",
        "outputId": "39b610e4-19d4-4834-cd54-4145505aa0d1"
      },
      "source": [
        "#Define the path and name of the directory to be created:\n",
        "#This is the path where we will extract the dataset:\n",
        "import os\n",
        "path = \"/content/imdb-dataset\"\n",
        "\n",
        "try:\n",
        "    os.mkdir(path)\n",
        "except OSError:\n",
        "    print (\"Creation of the directory %s failed\" % path)\n",
        "else:\n",
        "   print (\"Successfully created the directory %s \" % path)"
      ],
      "execution_count": 5,
      "outputs": [
        {
          "output_type": "stream",
          "text": [
            "Successfully created the directory /content/imdb-dataset \n"
          ],
          "name": "stdout"
        }
      ]
    },
    {
      "cell_type": "code",
      "metadata": {
        "colab": {
          "base_uri": "https://localhost:8080/"
        },
        "id": "tqwhE_Y9Xvtl",
        "outputId": "d1d6d771-0687-4ce9-a45d-26a6fb2ae21b"
      },
      "source": [
        "#Extracts the Images from the Zip file downloaded to the path we created above:\n",
        "from zipfile import ZipFile\n",
        "file_name = \"imdb-dataset.zip\"\n",
        "with ZipFile(file_name, 'r') as zip:\n",
        "  zip.extractall(path = \"/content/imdb-dataset/\")\n",
        "  print('Done')"
      ],
      "execution_count": 6,
      "outputs": [
        {
          "output_type": "stream",
          "text": [
            "Done\n"
          ],
          "name": "stdout"
        }
      ]
    },
    {
      "cell_type": "code",
      "metadata": {
        "colab": {
          "base_uri": "https://localhost:8080/"
        },
        "id": "QxdxRphfVx3o",
        "outputId": "68276940-738f-4fed-9ecc-8f53f9e2ef84"
      },
      "source": [
        "!sudo apt-get update"
      ],
      "execution_count": 7,
      "outputs": [
        {
          "output_type": "stream",
          "text": [
            "\r0% [Working]\r            \rIgn:1 https://developer.download.nvidia.com/compute/cuda/repos/ubuntu1804/x86_64  InRelease\n",
            "\r0% [Connecting to archive.ubuntu.com (91.189.88.152)] [Connecting to security.u\r                                                                               \rIgn:2 https://developer.download.nvidia.com/compute/machine-learning/repos/ubuntu1804/x86_64  InRelease\n",
            "Get:3 https://developer.download.nvidia.com/compute/cuda/repos/ubuntu1804/x86_64  Release [697 B]\n",
            "Hit:4 https://developer.download.nvidia.com/compute/machine-learning/repos/ubuntu1804/x86_64  Release\n",
            "Hit:5 http://archive.ubuntu.com/ubuntu bionic InRelease\n",
            "Get:6 http://archive.ubuntu.com/ubuntu bionic-updates InRelease [88.7 kB]\n",
            "Get:7 http://archive.ubuntu.com/ubuntu bionic-backports InRelease [74.6 kB]\n",
            "Get:8 http://security.ubuntu.com/ubuntu bionic-security InRelease [88.7 kB]\n",
            "Get:9 https://cloud.r-project.org/bin/linux/ubuntu bionic-cran40/ InRelease [3,626 B]\n",
            "Get:10 http://ppa.launchpad.net/c2d4u.team/c2d4u4.0+/ubuntu bionic InRelease [15.9 kB]\n",
            "Hit:11 http://ppa.launchpad.net/cran/libgit2/ubuntu bionic InRelease\n",
            "Get:12 http://ppa.launchpad.net/deadsnakes/ppa/ubuntu bionic InRelease [15.9 kB]\n",
            "Get:13 https://developer.download.nvidia.com/compute/cuda/repos/ubuntu1804/x86_64  Release.gpg [836 B]\n",
            "Get:15 http://ppa.launchpad.net/graphics-drivers/ppa/ubuntu bionic InRelease [21.3 kB]\n",
            "Get:16 http://archive.ubuntu.com/ubuntu bionic-updates/restricted amd64 Packages [506 kB]\n",
            "Get:17 http://security.ubuntu.com/ubuntu bionic-security/universe amd64 Packages [1,418 kB]\n",
            "Get:18 http://ppa.launchpad.net/c2d4u.team/c2d4u4.0+/ubuntu bionic/main Sources [1,777 kB]\n",
            "Get:19 http://archive.ubuntu.com/ubuntu bionic-updates/main amd64 Packages [2,657 kB]\n",
            "Ign:20 https://developer.download.nvidia.com/compute/cuda/repos/ubuntu1804/x86_64  Packages\n",
            "Get:20 https://developer.download.nvidia.com/compute/cuda/repos/ubuntu1804/x86_64  Packages [634 kB]\n",
            "Get:21 http://security.ubuntu.com/ubuntu bionic-security/main amd64 Packages [2,221 kB]\n",
            "Get:22 http://archive.ubuntu.com/ubuntu bionic-updates/universe amd64 Packages [2,188 kB]\n",
            "Get:23 http://security.ubuntu.com/ubuntu bionic-security/restricted amd64 Packages [473 kB]\n",
            "Get:24 http://ppa.launchpad.net/c2d4u.team/c2d4u4.0+/ubuntu bionic/main amd64 Packages [909 kB]\n",
            "Get:25 http://ppa.launchpad.net/deadsnakes/ppa/ubuntu bionic/main amd64 Packages [40.9 kB]\n",
            "Get:26 http://ppa.launchpad.net/graphics-drivers/ppa/ubuntu bionic/main amd64 Packages [41.5 kB]\n",
            "Fetched 13.2 MB in 9s (1,420 kB/s)\n",
            "Reading package lists... Done\n"
          ],
          "name": "stdout"
        }
      ]
    },
    {
      "cell_type": "code",
      "metadata": {
        "colab": {
          "base_uri": "https://localhost:8080/"
        },
        "id": "lh7Nu8TyB5zQ",
        "outputId": "e88845bf-32ed-4478-e6f7-efee59df8a5e"
      },
      "source": [
        "!sudo apt-get install"
      ],
      "execution_count": 8,
      "outputs": [
        {
          "output_type": "stream",
          "text": [
            "Reading package lists... Done\n",
            "Building dependency tree       \n",
            "Reading state information... Done\n",
            "0 upgraded, 0 newly installed, 0 to remove and 84 not upgraded.\n"
          ],
          "name": "stdout"
        }
      ]
    },
    {
      "cell_type": "code",
      "metadata": {
        "id": "q5HDhumwVx9A"
      },
      "source": [
        "!apt-get install openjdk-8-jdk-headless -qq > /dev/null\n",
        "!wget -q http://www-eu.apache.org/dist/spark/spark-3.1.2/spark-3.1.2-bin-hadoop3.2.tgz\n",
        "!tar xf spark-3.1.2-bin-hadoop3.2.tgz\n",
        "!pip install -q findspark\n"
      ],
      "execution_count": 9,
      "outputs": []
    },
    {
      "cell_type": "code",
      "metadata": {
        "id": "1qtU1CBIPLbN"
      },
      "source": [
        "\n",
        "import os\n",
        "os.environ[\"JAVA_HOME\"] = \"/usr/lib/jvm/java-8-openjdk-amd64\"\n",
        "os.environ[\"SPARK_HOME\"] = \"/content/spark-3.1.1-bin-hadoop3.2\"\n",
        "\n",
        "import findspark\n",
        "findspark.init(\"spark-3.1.2-bin-hadoop3.2\")# SPARK_HOME\n",
        "from pyspark.sql import SparkSession\n",
        "import pyspark.sql.functions  as F\n",
        "from pyspark.sql.functions import explode,split\n",
        "from pyspark import SparkContext\n",
        " \n",
        "\n",
        "\n",
        "\n"
      ],
      "execution_count": 10,
      "outputs": []
    },
    {
      "cell_type": "code",
      "metadata": {
        "id": "6vHGdxj0IaUq"
      },
      "source": [
        "sc=SparkContext()\n",
        "session = SparkSession.builder.master(\"local[*]\").getOrCreate()"
      ],
      "execution_count": 11,
      "outputs": []
    },
    {
      "cell_type": "code",
      "metadata": {
        "id": "odhwXc5LPLbd"
      },
      "source": [
        "df = session.read.csv(\"/content/imdb-dataset/title.akas.tsv\", sep=r'\\t', header=True).select(\"titleId\",\"title\")"
      ],
      "execution_count": 12,
      "outputs": []
    },
    {
      "cell_type": "code",
      "metadata": {
        "colab": {
          "base_uri": "https://localhost:8080/"
        },
        "id": "G74IadfPXv0-",
        "outputId": "0411eb74-fe45-45e7-90c5-d2e795da1699"
      },
      "source": [
        "df.show()"
      ],
      "execution_count": 13,
      "outputs": [
        {
          "output_type": "stream",
          "text": [
            "+---------+--------------------+\n",
            "|  titleId|               title|\n",
            "+---------+--------------------+\n",
            "|tt0000001|Carmencita - span...|\n",
            "|tt0000001|          Καρμενσίτα|\n",
            "|tt0000001|          Карменсита|\n",
            "|tt0000001|          Carmencita|\n",
            "|tt0000001|          Carmencita|\n",
            "|tt0000002|Le clown et ses c...|\n",
            "|tt0000002|   A bohóc és kutyái|\n",
            "|tt0000002|Le clown et ses c...|\n",
            "|tt0000002|Clovnul si cainii...|\n",
            "|tt0000002|  Клоун и его собаки|\n",
            "|tt0000002|The Clown and His...|\n",
            "|tt0000003|    Sarmanul Pierrot|\n",
            "|tt0000003|     Szegény Pierrot|\n",
            "|tt0000003|        Бедный Пьеро|\n",
            "|tt0000003|      Pauvre Pierrot|\n",
            "|tt0000003|        Poor Pierrot|\n",
            "|tt0000003|      Pauvre Pierrot|\n",
            "|tt0000004|         Un bon bock|\n",
            "|tt0000004|      Un ţap de bere|\n",
            "|tt0000004|         Un bon bock|\n",
            "+---------+--------------------+\n",
            "only showing top 20 rows\n",
            "\n"
          ],
          "name": "stdout"
        }
      ]
    },
    {
      "cell_type": "code",
      "metadata": {
        "colab": {
          "base_uri": "https://localhost:8080/"
        },
        "id": "72UzDp-CPLbf",
        "outputId": "3b6a0676-935c-438c-ac35-6a8ca796329d"
      },
      "source": [
        "df.printSchema()"
      ],
      "execution_count": 14,
      "outputs": [
        {
          "output_type": "stream",
          "text": [
            "root\n",
            " |-- titleId: string (nullable = true)\n",
            " |-- title: string (nullable = true)\n",
            "\n"
          ],
          "name": "stdout"
        }
      ]
    },
    {
      "cell_type": "code",
      "metadata": {
        "id": "OjvpZs8zPLbk"
      },
      "source": [
        "df2 = session.read.csv(\"/content/imdb-dataset/name.basics.tsv\", sep=r'\\t', header=True)"
      ],
      "execution_count": 15,
      "outputs": []
    },
    {
      "cell_type": "code",
      "metadata": {
        "colab": {
          "base_uri": "https://localhost:8080/"
        },
        "id": "sbmplXh_PLbm",
        "outputId": "9b4485f8-7351-47c0-9213-184d7852e76c"
      },
      "source": [
        "df2.show()"
      ],
      "execution_count": 16,
      "outputs": [
        {
          "output_type": "stream",
          "text": [
            "+---------+-------------------+---------+---------+--------------------+--------------------+\n",
            "|   nconst|        primaryName|birthYear|deathYear|   primaryProfession|      knownForTitles|\n",
            "+---------+-------------------+---------+---------+--------------------+--------------------+\n",
            "|nm0000001|       Fred Astaire|     1899|     1987|soundtrack,actor,...|tt0050419,tt00531...|\n",
            "|nm0000002|      Lauren Bacall|     1924|     2014|  actress,soundtrack|tt0071877,tt01170...|\n",
            "|nm0000003|    Brigitte Bardot|     1934|       \\N|actress,soundtrac...|tt0054452,tt00491...|\n",
            "|nm0000004|       John Belushi|     1949|     1982|actor,writer,soun...|tt0077975,tt00725...|\n",
            "|nm0000005|     Ingmar Bergman|     1918|     2007|writer,director,a...|tt0069467,tt00509...|\n",
            "|nm0000006|     Ingrid Bergman|     1915|     1982|actress,soundtrac...|tt0038109,tt00368...|\n",
            "|nm0000007|    Humphrey Bogart|     1899|     1957|actor,soundtrack,...|tt0043265,tt00338...|\n",
            "|nm0000008|      Marlon Brando|     1924|     2004|actor,soundtrack,...|tt0070849,tt00787...|\n",
            "|nm0000009|     Richard Burton|     1925|     1984|actor,producer,so...|tt0057877,tt00878...|\n",
            "|nm0000010|       James Cagney|     1899|     1986|actor,soundtrack,...|tt0035575,tt00318...|\n",
            "|nm0000011|        Gary Cooper|     1901|     1961|actor,soundtrack,...|tt0027996,tt00341...|\n",
            "|nm0000012|        Bette Davis|     1908|     1989|actress,soundtrac...|tt0031210,tt00421...|\n",
            "|nm0000013|          Doris Day|     1922|     2019|soundtrack,actres...|tt0053172,tt00551...|\n",
            "|nm0000014|Olivia de Havilland|     1916|       \\N|  actress,soundtrack|tt0029843,tt00313...|\n",
            "|nm0000015|         James Dean|     1931|     1955| actor,miscellaneous|tt0048545,tt00480...|\n",
            "|nm0000016|    Georges Delerue|     1925|     1992|composer,soundtra...|tt0096320,tt00917...|\n",
            "|nm0000017|   Marlene Dietrich|     1901|     1992|soundtrack,actres...|tt0051201,tt00211...|\n",
            "|nm0000018|       Kirk Douglas|     1916|       \\N|actor,producer,so...|tt0054331,tt00433...|\n",
            "|nm0000019|   Federico Fellini|     1920|     1993|writer,director,a...|tt0053779,tt00507...|\n",
            "|nm0000020|        Henry Fonda|     1905|     1982|actor,producer,so...|tt0082846,tt00325...|\n",
            "+---------+-------------------+---------+---------+--------------------+--------------------+\n",
            "only showing top 20 rows\n",
            "\n"
          ],
          "name": "stdout"
        }
      ]
    },
    {
      "cell_type": "code",
      "metadata": {
        "id": "roBvPrKUPLbo"
      },
      "source": [
        "names= session.read.csv(\"/content/imdb-dataset/title.principals.tsv\", sep=r'\\t', header=True).sample(0.1)"
      ],
      "execution_count": 17,
      "outputs": []
    },
    {
      "cell_type": "code",
      "metadata": {
        "id": "1-_Ou7HhPLbq"
      },
      "source": [
        "names = names.where((names.category == \"actor\") | (names.category == \"actress\")).select(\"tconst\",\"nconst\")"
      ],
      "execution_count": 18,
      "outputs": []
    },
    {
      "cell_type": "code",
      "metadata": {
        "colab": {
          "base_uri": "https://localhost:8080/"
        },
        "id": "6LgQdJ9LPLbs",
        "outputId": "20b3e4dc-c518-499a-dcd3-6dbfd169f905"
      },
      "source": [
        "names.show(truncate=False)"
      ],
      "execution_count": 19,
      "outputs": [
        {
          "output_type": "stream",
          "text": [
            "+---------+---------+\n",
            "|tconst   |nconst   |\n",
            "+---------+---------+\n",
            "|tt0000007|nm0179163|\n",
            "|tt0000008|nm0653028|\n",
            "|tt0000014|nm0244989|\n",
            "|tt0000017|nm3691272|\n",
            "|tt0000026|nm1151424|\n",
            "|tt0000032|nm3692479|\n",
            "|tt0000064|nm0617588|\n",
            "|tt0000076|nm0420198|\n",
            "|tt0000109|nm0420198|\n",
            "|tt0000111|nm0420198|\n",
            "|tt0000132|nm0617588|\n",
            "|tt0000174|nm1024447|\n",
            "|tt0000230|nm0076933|\n",
            "|tt0000246|nm0617588|\n",
            "|tt0000310|nm0151209|\n",
            "|tt0000335|nm1012612|\n",
            "|tt0000351|nm0462306|\n",
            "|tt0000376|nm0086082|\n",
            "|tt0000376|nm0632577|\n",
            "|tt0000381|nm0168621|\n",
            "+---------+---------+\n",
            "only showing top 20 rows\n",
            "\n"
          ],
          "name": "stdout"
        }
      ]
    },
    {
      "cell_type": "code",
      "metadata": {
        "id": "hRrDCNjzPLbv"
      },
      "source": [
        "movie_names =df2.join(names,\"nconst\",'inner')"
      ],
      "execution_count": 20,
      "outputs": []
    },
    {
      "cell_type": "code",
      "metadata": {
        "colab": {
          "base_uri": "https://localhost:8080/"
        },
        "id": "n5YtyBQGPLbw",
        "outputId": "2d3fd321-e89e-4ed6-ded5-04d3bc732117"
      },
      "source": [
        "movie_names.show(truncate=False)"
      ],
      "execution_count": 21,
      "outputs": [
        {
          "output_type": "stream",
          "text": [
            "+---------+--------------+---------+---------+-------------------------+---------------------------------------+----------+\n",
            "|nconst   |primaryName   |birthYear|deathYear|primaryProfession        |knownForTitles                         |tconst    |\n",
            "+---------+--------------+---------+---------+-------------------------+---------------------------------------+----------+\n",
            "|nm0000086|Louis de Funès|1914     |1983     |actor,writer,soundtrack  |tt0074103,tt0058135,tt0083109,tt0069747|tt0046243 |\n",
            "|nm0000086|Louis de Funès|1914     |1983     |actor,writer,soundtrack  |tt0074103,tt0058135,tt0083109,tt0069747|tt0048994 |\n",
            "|nm0000086|Louis de Funès|1914     |1983     |actor,writer,soundtrack  |tt0074103,tt0058135,tt0083109,tt0069747|tt0054394 |\n",
            "|nm0000086|Louis de Funès|1914     |1983     |actor,writer,soundtrack  |tt0074103,tt0058135,tt0083109,tt0069747|tt0057414 |\n",
            "|nm0000086|Louis de Funès|1914     |1983     |actor,writer,soundtrack  |tt0074103,tt0058135,tt0083109,tt0069747|tt0058135 |\n",
            "|nm0000086|Louis de Funès|1914     |1983     |actor,writer,soundtrack  |tt0074103,tt0058135,tt0083109,tt0069747|tt0066423 |\n",
            "|nm0000086|Louis de Funès|1914     |1983     |actor,writer,soundtrack  |tt0074103,tt0058135,tt0083109,tt0069747|tt1230567 |\n",
            "|nm0000198|Gary Oldman   |1958     |\\N       |actor,soundtrack,producer|tt0103874,tt1340800,tt0468569,tt4555426|tt0091954 |\n",
            "|nm0000198|Gary Oldman   |1958     |\\N       |actor,soundtrack,producer|tt0103874,tt1340800,tt0468569,tt4555426|tt0377917 |\n",
            "|nm0000198|Gary Oldman   |1958     |\\N       |actor,soundtrack,producer|tt0103874,tt1340800,tt0468569,tt4555426|tt0473333 |\n",
            "|nm0000198|Gary Oldman   |1958     |\\N       |actor,soundtrack,producer|tt0103874,tt1340800,tt0468569,tt4555426|tt10618286|\n",
            "|nm0000198|Gary Oldman   |1958     |\\N       |actor,soundtrack,producer|tt0103874,tt1340800,tt0468569,tt4555426|tt1340800 |\n",
            "|nm0000198|Gary Oldman   |1958     |\\N       |actor,soundtrack,producer|tt0103874,tt1340800,tt0468569,tt4555426|tt3038760 |\n",
            "|nm0000198|Gary Oldman   |1958     |\\N       |actor,soundtrack,producer|tt0103874,tt1340800,tt0468569,tt4555426|tt9207616 |\n",
            "|nm0000354|Matt Damon    |1970     |\\N       |producer,actor,soundtrack|tt0119217,tt0407887,tt0134119,tt3659388|tt0119217 |\n",
            "|nm0000354|Matt Damon    |1970     |\\N       |producer,actor,soundtrack|tt0119217,tt0407887,tt0134119,tt3659388|tt0134119 |\n",
            "|nm0000354|Matt Damon    |1970     |\\N       |producer,actor,soundtrack|tt0119217,tt0407887,tt0134119,tt3659388|tt0302674 |\n",
            "|nm0000354|Matt Damon    |1970     |\\N       |producer,actor,soundtrack|tt0119217,tt0407887,tt0134119,tt3659388|tt0355295 |\n",
            "|nm0000354|Matt Damon    |1970     |\\N       |producer,actor,soundtrack|tt0119217,tt0407887,tt0134119,tt3659388|tt5469654 |\n",
            "|nm0000354|Matt Damon    |1970     |\\N       |producer,actor,soundtrack|tt0119217,tt0407887,tt0134119,tt3659388|tt6594992 |\n",
            "+---------+--------------+---------+---------+-------------------------+---------------------------------------+----------+\n",
            "only showing top 20 rows\n",
            "\n"
          ],
          "name": "stdout"
        }
      ]
    },
    {
      "cell_type": "code",
      "metadata": {
        "colab": {
          "base_uri": "https://localhost:8080/"
        },
        "id": "OWgsLYg5PLbz",
        "outputId": "24544617-8034-4a40-afea-90405101f3a9"
      },
      "source": [
        "splited = movie_names.select(\"primaryName\",\"knownForTitles\",split(\"knownForTitles\",\",\").alias(\"split\"))\n",
        "exploded = splited.select(\"primaryName\",explode(\"split\").alias(\"titleId\"))\n",
        "exploded.show()"
      ],
      "execution_count": 22,
      "outputs": [
        {
          "output_type": "stream",
          "text": [
            "+--------------+---------+\n",
            "|   primaryName|  titleId|\n",
            "+--------------+---------+\n",
            "|Louis de Funès|tt0074103|\n",
            "|Louis de Funès|tt0058135|\n",
            "|Louis de Funès|tt0083109|\n",
            "|Louis de Funès|tt0069747|\n",
            "|Louis de Funès|tt0074103|\n",
            "|Louis de Funès|tt0058135|\n",
            "|Louis de Funès|tt0083109|\n",
            "|Louis de Funès|tt0069747|\n",
            "|Louis de Funès|tt0074103|\n",
            "|Louis de Funès|tt0058135|\n",
            "|Louis de Funès|tt0083109|\n",
            "|Louis de Funès|tt0069747|\n",
            "|Louis de Funès|tt0074103|\n",
            "|Louis de Funès|tt0058135|\n",
            "|Louis de Funès|tt0083109|\n",
            "|Louis de Funès|tt0069747|\n",
            "|Louis de Funès|tt0074103|\n",
            "|Louis de Funès|tt0058135|\n",
            "|Louis de Funès|tt0083109|\n",
            "|Louis de Funès|tt0069747|\n",
            "+--------------+---------+\n",
            "only showing top 20 rows\n",
            "\n"
          ],
          "name": "stdout"
        }
      ]
    },
    {
      "cell_type": "code",
      "metadata": {
        "colab": {
          "base_uri": "https://localhost:8080/"
        },
        "id": "GEJHvaAMPLb1",
        "outputId": "05c555c2-fd4c-43f0-ccb7-f5bf46fc7ad7"
      },
      "source": [
        "exploded.where(\"titleId == 'tt0117057'\").show()"
      ],
      "execution_count": 23,
      "outputs": [
        {
          "output_type": "stream",
          "text": [
            "+----------------+---------+\n",
            "|     primaryName|  titleId|\n",
            "+----------------+---------+\n",
            "|Barbra Streisand|tt0117057|\n",
            "|Barbra Streisand|tt0117057|\n",
            "|  Lesley Garrett|tt0117057|\n",
            "|      Jimmy Baio|tt0117057|\n",
            "|      Jimmy Baio|tt0117057|\n",
            "|      Jimmy Baio|tt0117057|\n",
            "|      Jimmy Baio|tt0117057|\n",
            "|      Jimmy Baio|tt0117057|\n",
            "|      Jimmy Baio|tt0117057|\n",
            "|   Lauren Bacall|tt0117057|\n",
            "|   Lauren Bacall|tt0117057|\n",
            "|   Lauren Bacall|tt0117057|\n",
            "|   Lauren Bacall|tt0117057|\n",
            "|   Lauren Bacall|tt0117057|\n",
            "|   Lauren Bacall|tt0117057|\n",
            "|   Lauren Bacall|tt0117057|\n",
            "+----------------+---------+\n",
            "\n"
          ],
          "name": "stdout"
        }
      ]
    },
    {
      "cell_type": "code",
      "metadata": {
        "id": "h7Q5CNafPLb3"
      },
      "source": [
        "prepared_df = exploded.join(df,\"titleId\",\"inner\")"
      ],
      "execution_count": 24,
      "outputs": []
    },
    {
      "cell_type": "code",
      "metadata": {
        "colab": {
          "base_uri": "https://localhost:8080/"
        },
        "id": "poyfxYRbPLb5",
        "outputId": "54548e1e-0449-4056-b5d1-944748eb158e"
      },
      "source": [
        " prepared_df.where(\"title == 'Lucille Love: The Girl of Mystery'\").show(truncate=False)"
      ],
      "execution_count": 25,
      "outputs": [
        {
          "output_type": "stream",
          "text": [
            "+---------+-------------+---------------------------------+\n",
            "|titleId  |primaryName  |title                            |\n",
            "+---------+-------------+---------------------------------+\n",
            "|tt0004272|Harry Schumm |Lucille Love: The Girl of Mystery|\n",
            "|tt0004272|Harry Schumm |Lucille Love: The Girl of Mystery|\n",
            "|tt0004272|Harry Schumm |Lucille Love: The Girl of Mystery|\n",
            "|tt0004272|Harry Schumm |Lucille Love: The Girl of Mystery|\n",
            "|tt0004272|Harry Schumm |Lucille Love: The Girl of Mystery|\n",
            "|tt0004272|Harry Schumm |Lucille Love: The Girl of Mystery|\n",
            "|tt0004272|Burton Law   |Lucille Love: The Girl of Mystery|\n",
            "|tt0004272|Burton Law   |Lucille Love: The Girl of Mystery|\n",
            "|tt0004272|Burton Law   |Lucille Love: The Girl of Mystery|\n",
            "|tt0004272|Burton Law   |Lucille Love: The Girl of Mystery|\n",
            "|tt0004272|Burton Law   |Lucille Love: The Girl of Mystery|\n",
            "|tt0004272|Burton Law   |Lucille Love: The Girl of Mystery|\n",
            "|tt0004272|Jean Hathaway|Lucille Love: The Girl of Mystery|\n",
            "|tt0004272|Jean Hathaway|Lucille Love: The Girl of Mystery|\n",
            "|tt0004272|Jean Hathaway|Lucille Love: The Girl of Mystery|\n",
            "|tt0004272|Jean Hathaway|Lucille Love: The Girl of Mystery|\n",
            "|tt0004272|Jean Hathaway|Lucille Love: The Girl of Mystery|\n",
            "|tt0004272|Jean Hathaway|Lucille Love: The Girl of Mystery|\n",
            "|tt0004272|Jean Hathaway|Lucille Love: The Girl of Mystery|\n",
            "|tt0004272|Jean Hathaway|Lucille Love: The Girl of Mystery|\n",
            "+---------+-------------+---------------------------------+\n",
            "only showing top 20 rows\n",
            "\n"
          ],
          "name": "stdout"
        }
      ]
    },
    {
      "cell_type": "code",
      "metadata": {
        "colab": {
          "base_uri": "https://localhost:8080/"
        },
        "id": "Caa10rylPLb8",
        "outputId": "4cb94af8-35fb-4e5f-e1df-8c83cda8f39f"
      },
      "source": [
        "prepared_df.groupBy(\"title\",\"primaryName\").count().show()"
      ],
      "execution_count": 26,
      "outputs": [
        {
          "output_type": "stream",
          "text": [
            "+--------------------+-----------------+-----+\n",
            "|               title|      primaryName|count|\n",
            "+--------------------+-----------------+-----+\n",
            "|Den gaadefulde Villa|        Hal Forde|    1|\n",
            "|Dürfen wir schwei...|     Bella Polini|    2|\n",
            "|Torchy Blane in P...|        Lola Lane|    8|\n",
            "|      Sarlo Diktatör|       Eddie Dunn|    6|\n",
            "|          A diktátor| Meredith Willson|    1|\n",
            "|           O Ditador| Paulette Goddard|    3|\n",
            "|  O Grande Escândalo|       Frank Orth|   10|\n",
            "| Его девушка Пятница|       Helen Mack|    3|\n",
            "|Dziewczyna Pietaszek|     Ernest Truex|   12|\n",
            "|     Siste sensasjon|     Regis Toomey|   25|\n",
            "|I doukissa kai o ...|    Árpád Lehotay|    1|\n",
            "|      Saiturin joulu|  Ernest Thesiger|    1|\n",
            "|Zumbis da Estrato...|      Wilson Wood|    1|\n",
            "|Instinto Sanguinário|  Maureen Hingert|    1|\n",
            "|O Nosso Agente em...|Yvonne Buckingham|    1|\n",
            "|     Sankarin kunnia|      Bryan Hulme|    1|\n",
            "|      En gång hjälte|      Bryan Hulme|    1|\n",
            "|Mission spéciale ...|   Dominique Page|    1|\n",
            "|Äventyraren Thoma...|     Sam Melville|   13|\n",
            "|     Burani ve meste|        Ron Carey|    5|\n",
            "+--------------------+-----------------+-----+\n",
            "only showing top 20 rows\n",
            "\n"
          ],
          "name": "stdout"
        }
      ]
    },
    {
      "cell_type": "code",
      "metadata": {
        "id": "I359OCepPLb_"
      },
      "source": [
        "basket  =prepared_df.groupBy(\"title\").agg(F.collect_set(\"primaryName\")).cache()"
      ],
      "execution_count": 27,
      "outputs": []
    },
    {
      "cell_type": "code",
      "metadata": {
        "id": "NEqK2QbEPLcB"
      },
      "source": [
        "from pyspark.ml.fpm import FPGrowth\n",
        "## modeling FP Growth alforithm to get Frequent Itemsets\n",
        "\n",
        "fpGrowth = FPGrowth(itemsCol=\"collect_set(primaryName)\", minSupport=0.0001, minConfidence=0.001)\n",
        "model = fpGrowth.fit(basket)"
      ],
      "execution_count": 28,
      "outputs": []
    },
    {
      "cell_type": "code",
      "metadata": {
        "colab": {
          "base_uri": "https://localhost:8080/"
        },
        "id": "0tQ3fOK9PLcD",
        "scrolled": true,
        "outputId": "ba2b5d2b-1ffc-4950-c48b-2548e25c7f84"
      },
      "source": [
        "model.freqItemsets.show(truncate= False)"
      ],
      "execution_count": 29,
      "outputs": [
        {
          "output_type": "stream",
          "text": [
            "+-------------------+----+\n",
            "|items              |freq|\n",
            "+-------------------+----+\n",
            "|[Kevin Smith]      |144 |\n",
            "|[Robert J. Wilke]  |132 |\n",
            "|[Jennifer Lawrence]|126 |\n",
            "|[Chiemi Ishimatsu] |109 |\n",
            "|[Scott Spiegel]    |108 |\n",
            "|[Åke Fridell]      |107 |\n",
            "|[Jared Harris]     |122 |\n",
            "|[Malcolm Dixon]    |119 |\n",
            "|[Diane Kruger]     |116 |\n",
            "|[Jay Baruchel]     |114 |\n",
            "|[Conrad Goode]     |112 |\n",
            "|[Simon Pegg]       |111 |\n",
            "|[John Williams]    |332 |\n",
            "|[Christian Simpson]|122 |\n",
            "|[Miles Marsico]    |107 |\n",
            "|[Amy Stiller]      |119 |\n",
            "|[Brian Tochi]      |116 |\n",
            "|[Pat McCormick]    |114 |\n",
            "|[Andre Ware]       |112 |\n",
            "|[David Bradley]    |282 |\n",
            "+-------------------+----+\n",
            "only showing top 20 rows\n",
            "\n"
          ],
          "name": "stdout"
        }
      ]
    },
    {
      "cell_type": "code",
      "metadata": {
        "colab": {
          "base_uri": "https://localhost:8080/"
        },
        "id": "egB83kPVPLcF",
        "outputId": "30c46df4-d885-44f9-d194-f7df22a68822"
      },
      "source": [
        "model.associationRules.show()"
      ],
      "execution_count": 30,
      "outputs": [
        {
          "output_type": "stream",
          "text": [
            "+--------------------+--------------------+----------+------------------+--------------------+\n",
            "|          antecedent|          consequent|confidence|              lift|             support|\n",
            "+--------------------+--------------------+----------+------------------+--------------------+\n",
            "|[Eric Stuart, Iku...|    [Rodger Parsons]|       1.0| 7430.270833333333|1.317807504773547...|\n",
            "|[Eric Stuart, Iku...|   [Michael Haigney]|       1.0|7482.2307692307695|1.317807504773547...|\n",
            "|[Eric Stuart, Iku...|    [Rachael Lillis]|       1.0| 6645.708074534161|1.317807504773547...|\n",
            "|[Eric Stuart, Iku...| [Chinami Nishimura]|       1.0| 6257.070175438596|1.317807504773547...|\n",
            "|[Eric Stuart, Iku...|      [John Siegler]|       1.0| 5752.467741935484|1.317807504773547...|\n",
            "|[Eric Stuart, Iku...|      [Mayumi Izuka]|       1.0| 5752.467741935484|1.317807504773547...|\n",
            "|[Eric Stuart, Iku...|    [Rica Matsumoto]|       1.0| 5814.994565217392|1.317807504773547...|\n",
            "|[Eric Stuart, Iku...|     [Inuko Inuyama]|       1.0| 5878.895604395604|1.317807504773547...|\n",
            "|[William Kircher,...|    [Stephen Hunter]|       1.0| 8770.155737704918|1.121538301934934E-4|\n",
            "|[William Kircher,...|     [Dean O'Gorman]|       1.0| 7984.768656716418|1.121538301934934E-4|\n",
            "|[William Kircher,...|        [Mark Atkin]|       1.0| 7925.622222222222|1.121538301934934E-4|\n",
            "|[William Kircher,...|   [Graham McTavish]|       1.0|7482.2307692307695|1.121538301934934E-4|\n",
            "|[William Kircher,...|     [Dean Knowsley]|       1.0| 7379.027586206897|1.121538301934934E-4|\n",
            "|[William Kircher,...|      [Aidan Turner]|       1.0| 6149.189655172414|1.121538301934934E-4|\n",
            "|[Michael Haigney,...|    [Rachael Lillis]|       1.0| 6645.708074534161|1.317807504773547...|\n",
            "|[Michael Haigney,...| [Chinami Nishimura]|       1.0| 6257.070175438596|1.317807504773547...|\n",
            "|[Michael Haigney,...|[Madeleine Blaust...|       1.0|5270.7339901477835|1.317807504773547...|\n",
            "|[Michael Haigney,...|         [Yûji Ueda]|       1.0| 5752.467741935484|1.317807504773547...|\n",
            "|[Michael Haigney,...|    [Rica Matsumoto]|       1.0| 5814.994565217392|1.317807504773547...|\n",
            "|[Michael Haigney,...|      [Mayumi Izuka]|       1.0| 5752.467741935484|1.317807504773547...|\n",
            "+--------------------+--------------------+----------+------------------+--------------------+\n",
            "only showing top 20 rows\n",
            "\n"
          ],
          "name": "stdout"
        }
      ]
    },
    {
      "cell_type": "code",
      "metadata": {
        "id": "KmQsB_3bPLcH",
        "colab": {
          "base_uri": "https://localhost:8080/"
        },
        "outputId": "0f14f09f-9396-4663-9c49-417818b58261"
      },
      "source": [
        "lists = basket.select(\"collect_set(primaryName)\").withColumnRenamed(\"collect_set(primaryName)\",\"primary_names\").sample(0.00001).collect()\n",
        "sno_id_array = [ row.primary_names for row in lists]\n",
        "sno_id_array"
      ],
      "execution_count": 31,
      "outputs": [
        {
          "output_type": "execute_result",
          "data": {
            "text/plain": [
              "[['Mimis Stavrolemis'],\n",
              " [\"Gloria D'Osvaldo\"],\n",
              " ['Don Jaime de Mora y Aragón', 'Charles Baxter'],\n",
              " ['Jimmy Sireno'],\n",
              " ['Jorge Baião', 'Constantino Guimarães'],\n",
              " ['Richard Lornac', 'Myriam Nedellec'],\n",
              " ['Howard Hickman'],\n",
              " ['Wolfgang Müller', 'Werner Jacobs', 'Vico Torriani', 'Harry Tagore'],\n",
              " ['André Heinrich',\n",
              "  'Fritz Hakl',\n",
              "  'Joachim Hackethal',\n",
              "  'Lech Grzmocinski',\n",
              "  'Volker Schlöndorff',\n",
              "  'Katharina Thalbach',\n",
              "  'Wigand Witting',\n",
              "  'Dietrich Frauboes'],\n",
              " ['Ben Bar', 'Mato Grbavac', 'Jerry Ryan'],\n",
              " ['Ashlee Spencer',\n",
              "  'Eila Adams',\n",
              "  'Charlie Atwell',\n",
              "  'Amyka Lee',\n",
              "  'Barbara Bella',\n",
              "  'Chloe Toy',\n",
              "  'Honour May',\n",
              "  'Faye Taylor',\n",
              "  'Brooke Little',\n",
              "  'Kayla Louise',\n",
              "  'Sammi Tye'],\n",
              " ['Nick Buck'],\n",
              " ['Kali Dreams', 'Punkin', 'Nadia Nasty']]"
            ]
          },
          "metadata": {
            "tags": []
          },
          "execution_count": 31
        }
      ]
    },
    {
      "cell_type": "code",
      "metadata": {
        "id": "RMJN4rWK4LRi"
      },
      "source": [
        "lblitems =sc.parallelize(sno_id_array)\n",
        "wlitems=lblitems.flatMap(lambda line:line)"
      ],
      "execution_count": 44,
      "outputs": []
    },
    {
      "cell_type": "code",
      "metadata": {
        "id": "80s96Mf04i4J"
      },
      "source": [
        "uniqueItems = wlitems.distinct()\n",
        "supportRdd = wlitems.map(lambda item: (item , 1))\n",
        "\n",
        "def sumOparator(x,y):\n",
        "    return x+y\n",
        "\n",
        "supportRdd = supportRdd.reduceByKey(sumOparator) \n",
        "supports = supportRdd.map(lambda item: item[1]) # Return only support values"
      ],
      "execution_count": 45,
      "outputs": []
    },
    {
      "cell_type": "code",
      "metadata": {
        "colab": {
          "base_uri": "https://localhost:8080/"
        },
        "id": "B031LKkX5H5b",
        "outputId": "2af19573-fae0-466e-860a-da55165d1100"
      },
      "source": [
        "\n",
        "minSupport = supports.min()\n",
        "\n",
        "minSupport = 2 if minSupport == 1 else minSupport\n",
        "\n",
        "supportRdd = supportRdd.filter(lambda item: item[1] >= minSupport )\n",
        "\n",
        "baseRdd = supportRdd.map(lambda item: ([item[0]] , item[1])) \n",
        "print('1 . Table has crated...') \n",
        "\n",
        "supportRdd = supportRdd.map(lambda item: item[0])\n",
        "supportRddCart = supportRdd"
      ],
      "execution_count": 46,
      "outputs": [
        {
          "output_type": "stream",
          "text": [
            "1 . Table has crated...\n"
          ],
          "name": "stdout"
        }
      ]
    },
    {
      "cell_type": "code",
      "metadata": {
        "id": "Wd-2m4y_5hp2"
      },
      "source": [
        "\n",
        "def removeReplica(record):\n",
        "\n",
        "    if(isinstance(record[0], tuple)):\n",
        "        x1 = record[0]\n",
        "        x2 = record[1]\n",
        "    else:\n",
        "        x1 = [record[0]]\n",
        "        x2 = record[1]\n",
        "\n",
        "    if(any(x == x2 for x in x1) == False):\n",
        "        a = list(x1)\n",
        "        a.append(x2)\n",
        "        a.sort()\n",
        "        result = tuple(a)\n",
        "        return result \n",
        "    else:\n",
        "        return x1"
      ],
      "execution_count": 47,
      "outputs": []
    },
    {
      "cell_type": "code",
      "metadata": {
        "id": "iw8GtLpY5mU9"
      },
      "source": [
        "c = 2 \n",
        "\n",
        "while(supportRdd.isEmpty() == False):\n",
        "\n",
        "    combined = supportRdd.cartesian(uniqueItems)\n",
        "    combined = combined.map(lambda item: removeReplica(item))\n",
        "  \n",
        "    combined = combined.filter(lambda item: len(item) == c)\n",
        "    combined = combined.distinct()\n",
        "\n",
        "    \n",
        "    combined_2 = combined.cartesian(lblitems)\n",
        "    combined_2 = combined_2.filter(lambda item: all(x in item[1] for x in item[0]))\n",
        "    \n",
        "    combined_2 = combined_2.map(lambda item: item[0])\n",
        "    combined_2 = combined_2.map(lambda item: (item , 1))\n",
        "    combined_2 = combined_2.reduceByKey(sumOparator)\n",
        "    combined_2 = combined_2.filter(lambda item: item[1] >= minSupport)\n",
        "\n",
        "    baseRdd = baseRdd.union(combined_2)\n",
        "    \n",
        "    combined_2 = combined_2.map(lambda item: item[0])\n",
        "    supportRdd = combined_2\n",
        "    print(c ,'. Table has crated... ')\n",
        "    c = c+1 "
      ],
      "execution_count": 48,
      "outputs": []
    },
    {
      "cell_type": "code",
      "metadata": {
        "id": "mcDptwjE5q6k"
      },
      "source": [
        "class Filter():\n",
        "\n",
        "    def __init__(self):\n",
        "        \n",
        "        self.stages = 1\n",
        "\n",
        "\n",
        "    def filterForConf(self, item , total):\n",
        "        \n",
        "        if(len(item[0][0]) > len(item[1][0])  ):\n",
        "            if(self.checkItemSets(item[0][0] , item[1][0]) == False):\n",
        "                pass\n",
        "            else:\n",
        "                return (item)       \n",
        "        else:\n",
        "            pass  \n",
        "        self.stages = self.stages + 1\n",
        "\n",
        "    def checkItemSets(self, item_1 , item_2):\n",
        "\n",
        "        if(len(item_1) > len(item_2)):\n",
        "            return all(any(k == l for k in item_1 ) for l in item_2)\n",
        "        else:\n",
        "            return all(any(k == l for k in item_2 ) for l in item_1)\n",
        "\n",
        "\n",
        "    def calculateConfidence(self, item):\n",
        "\n",
        "        parent = set(item[0][0])\n",
        "        \n",
        "        if(isinstance(item[1][0] , str)):\n",
        "            child  = set([item[1][0]])\n",
        "        else:\n",
        "            child  = set(item[1][0])\n",
        "        \n",
        "        parentSupport = item[0][1]\n",
        "        childSupport = item[1][1]\n",
        "       \n",
        "\n",
        "        support = (parentSupport / childSupport)*100\n",
        "\n",
        "        return list([ list(child) ,  list(parent.difference(child)) , support ])"
      ],
      "execution_count": 37,
      "outputs": []
    },
    {
      "cell_type": "code",
      "metadata": {
        "id": "PxnRqO3hey5H"
      },
      "source": [
        "calcuItems = baseRdd.cartesian(baseRdd)\n",
        "ff = Filter()\n",
        "total = calcuItems.count()"
      ],
      "execution_count": 51,
      "outputs": []
    },
    {
      "cell_type": "code",
      "metadata": {
        "id": "NXWkolv4fUOh",
        "colab": {
          "base_uri": "https://localhost:8080/"
        },
        "outputId": "59cdecc5-ff63-4871-b757-06baabd5f652"
      },
      "source": [
        "print('# : Aggregated support values preparing for the confidence calculatations')\n",
        "baseRddConfidence = calcuItems.filter(lambda item: ff.filterForConf(item , total))"
      ],
      "execution_count": 52,
      "outputs": [
        {
          "output_type": "stream",
          "text": [
            "# : Aggregated support values preparing for the confidence calculatations\n"
          ],
          "name": "stdout"
        }
      ]
    },
    {
      "cell_type": "code",
      "metadata": {
        "id": "VWraVhHxfkLo",
        "colab": {
          "base_uri": "https://localhost:8080/"
        },
        "outputId": "56115ccd-1098-4ed6-f87a-6397c8bafd18"
      },
      "source": [
        "print('# : Aggregated support values are ready !')\n",
        "baseRddConfidence = baseRddConfidence.map(lambda item: ff.calculateConfidence(item))"
      ],
      "execution_count": 53,
      "outputs": [
        {
          "output_type": "stream",
          "text": [
            "# : Aggregated support values are ready !\n"
          ],
          "name": "stdout"
        }
      ]
    },
    {
      "cell_type": "code",
      "metadata": {
        "id": "x1JecLzIfkfy",
        "colab": {
          "base_uri": "https://localhost:8080/"
        },
        "outputId": "fa868ee1-7786-424c-a1c7-d8ed4f1d9eae"
      },
      "source": [
        "print(baseRddConfidence.collect())\n",
        "## No confidence could be made in current use case "
      ],
      "execution_count": 54,
      "outputs": [
        {
          "output_type": "stream",
          "text": [
            "[]\n"
          ],
          "name": "stdout"
        }
      ]
    }
  ]
}